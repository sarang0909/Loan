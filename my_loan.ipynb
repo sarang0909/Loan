{
 "cells": [
  {
   "cell_type": "markdown",
   "metadata": {},
   "source": [
    "# Machine Learning Platform to predict a loan will be paid off or not \n"
   ]
  },
  {
   "cell_type": "markdown",
   "metadata": {
    "collapsed": true
   },
   "source": [
    "### Goal:Using past loan data from lending club to build models that can predict if a loan will be paid off or not. \n",
    "### dataset:https://data.world/jaypeedevlin/lending-club-loan-data-2007-11"
   ]
  },
  {
   "cell_type": "code",
   "execution_count": 2,
   "metadata": {
    "collapsed": true
   },
   "outputs": [],
   "source": [
    "#Import Libraries\n",
    "import pandas as pd\n",
    "import numpy as np\n",
    "import matplotlib.pyplot as plt"
   ]
  },
  {
   "cell_type": "code",
   "execution_count": 3,
   "metadata": {},
   "outputs": [
    {
     "data": {
      "text/plain": [
       "'skiprows:We have to use skip the first row which has some comment data.\\nlow_memory:Internally process the file in chunks, resulting in lower memory use while parsing, but possibly mixed type inference.\\nTo ensure no mixed types set False'"
      ]
     },
     "execution_count": 3,
     "metadata": {},
     "output_type": "execute_result"
    }
   ],
   "source": [
    "#Get data\n",
    "dataset = pd.read_csv(\"lending_club_loans.csv\",skiprows=1,low_memory=False)\n",
    "'''skiprows:We have to use skip the first row which has some comment data.\n",
    "low_memory:Internally process the file in chunks, resulting in lower memory use while parsing, but possibly mixed type inference.\n",
    "To ensure no mixed types set False'''"
   ]
  },
  {
   "cell_type": "code",
   "execution_count": 4,
   "metadata": {},
   "outputs": [
    {
     "data": {
      "text/html": [
       "<div>\n",
       "<style>\n",
       "    .dataframe thead tr:only-child th {\n",
       "        text-align: right;\n",
       "    }\n",
       "\n",
       "    .dataframe thead th {\n",
       "        text-align: left;\n",
       "    }\n",
       "\n",
       "    .dataframe tbody tr th {\n",
       "        vertical-align: top;\n",
       "    }\n",
       "</style>\n",
       "<table border=\"1\" class=\"dataframe\">\n",
       "  <thead>\n",
       "    <tr style=\"text-align: right;\">\n",
       "      <th></th>\n",
       "      <th>id</th>\n",
       "      <th>member_id</th>\n",
       "      <th>loan_amnt</th>\n",
       "      <th>funded_amnt</th>\n",
       "      <th>funded_amnt_inv</th>\n",
       "      <th>term</th>\n",
       "      <th>int_rate</th>\n",
       "      <th>installment</th>\n",
       "      <th>grade</th>\n",
       "      <th>sub_grade</th>\n",
       "      <th>...</th>\n",
       "      <th>num_tl_90g_dpd_24m</th>\n",
       "      <th>num_tl_op_past_12m</th>\n",
       "      <th>pct_tl_nvr_dlq</th>\n",
       "      <th>percent_bc_gt_75</th>\n",
       "      <th>pub_rec_bankruptcies</th>\n",
       "      <th>tax_liens</th>\n",
       "      <th>tot_hi_cred_lim</th>\n",
       "      <th>total_bal_ex_mort</th>\n",
       "      <th>total_bc_limit</th>\n",
       "      <th>total_il_high_credit_limit</th>\n",
       "    </tr>\n",
       "  </thead>\n",
       "  <tbody>\n",
       "    <tr>\n",
       "      <th>0</th>\n",
       "      <td>1077501</td>\n",
       "      <td>1296599.0</td>\n",
       "      <td>5000.0</td>\n",
       "      <td>5000.0</td>\n",
       "      <td>4975.0</td>\n",
       "      <td>36 months</td>\n",
       "      <td>10.65%</td>\n",
       "      <td>162.87</td>\n",
       "      <td>B</td>\n",
       "      <td>B2</td>\n",
       "      <td>...</td>\n",
       "      <td>NaN</td>\n",
       "      <td>NaN</td>\n",
       "      <td>NaN</td>\n",
       "      <td>NaN</td>\n",
       "      <td>0.0</td>\n",
       "      <td>0.0</td>\n",
       "      <td>NaN</td>\n",
       "      <td>NaN</td>\n",
       "      <td>NaN</td>\n",
       "      <td>NaN</td>\n",
       "    </tr>\n",
       "    <tr>\n",
       "      <th>1</th>\n",
       "      <td>1077430</td>\n",
       "      <td>1314167.0</td>\n",
       "      <td>2500.0</td>\n",
       "      <td>2500.0</td>\n",
       "      <td>2500.0</td>\n",
       "      <td>60 months</td>\n",
       "      <td>15.27%</td>\n",
       "      <td>59.83</td>\n",
       "      <td>C</td>\n",
       "      <td>C4</td>\n",
       "      <td>...</td>\n",
       "      <td>NaN</td>\n",
       "      <td>NaN</td>\n",
       "      <td>NaN</td>\n",
       "      <td>NaN</td>\n",
       "      <td>0.0</td>\n",
       "      <td>0.0</td>\n",
       "      <td>NaN</td>\n",
       "      <td>NaN</td>\n",
       "      <td>NaN</td>\n",
       "      <td>NaN</td>\n",
       "    </tr>\n",
       "    <tr>\n",
       "      <th>2</th>\n",
       "      <td>1077175</td>\n",
       "      <td>1313524.0</td>\n",
       "      <td>2400.0</td>\n",
       "      <td>2400.0</td>\n",
       "      <td>2400.0</td>\n",
       "      <td>36 months</td>\n",
       "      <td>15.96%</td>\n",
       "      <td>84.33</td>\n",
       "      <td>C</td>\n",
       "      <td>C5</td>\n",
       "      <td>...</td>\n",
       "      <td>NaN</td>\n",
       "      <td>NaN</td>\n",
       "      <td>NaN</td>\n",
       "      <td>NaN</td>\n",
       "      <td>0.0</td>\n",
       "      <td>0.0</td>\n",
       "      <td>NaN</td>\n",
       "      <td>NaN</td>\n",
       "      <td>NaN</td>\n",
       "      <td>NaN</td>\n",
       "    </tr>\n",
       "    <tr>\n",
       "      <th>3</th>\n",
       "      <td>1076863</td>\n",
       "      <td>1277178.0</td>\n",
       "      <td>10000.0</td>\n",
       "      <td>10000.0</td>\n",
       "      <td>10000.0</td>\n",
       "      <td>36 months</td>\n",
       "      <td>13.49%</td>\n",
       "      <td>339.31</td>\n",
       "      <td>C</td>\n",
       "      <td>C1</td>\n",
       "      <td>...</td>\n",
       "      <td>NaN</td>\n",
       "      <td>NaN</td>\n",
       "      <td>NaN</td>\n",
       "      <td>NaN</td>\n",
       "      <td>0.0</td>\n",
       "      <td>0.0</td>\n",
       "      <td>NaN</td>\n",
       "      <td>NaN</td>\n",
       "      <td>NaN</td>\n",
       "      <td>NaN</td>\n",
       "    </tr>\n",
       "    <tr>\n",
       "      <th>4</th>\n",
       "      <td>1075358</td>\n",
       "      <td>1311748.0</td>\n",
       "      <td>3000.0</td>\n",
       "      <td>3000.0</td>\n",
       "      <td>3000.0</td>\n",
       "      <td>60 months</td>\n",
       "      <td>12.69%</td>\n",
       "      <td>67.79</td>\n",
       "      <td>B</td>\n",
       "      <td>B5</td>\n",
       "      <td>...</td>\n",
       "      <td>NaN</td>\n",
       "      <td>NaN</td>\n",
       "      <td>NaN</td>\n",
       "      <td>NaN</td>\n",
       "      <td>0.0</td>\n",
       "      <td>0.0</td>\n",
       "      <td>NaN</td>\n",
       "      <td>NaN</td>\n",
       "      <td>NaN</td>\n",
       "      <td>NaN</td>\n",
       "    </tr>\n",
       "  </tbody>\n",
       "</table>\n",
       "<p>5 rows × 115 columns</p>\n",
       "</div>"
      ],
      "text/plain": [
       "        id  member_id  loan_amnt  funded_amnt  funded_amnt_inv        term  \\\n",
       "0  1077501  1296599.0     5000.0       5000.0           4975.0   36 months   \n",
       "1  1077430  1314167.0     2500.0       2500.0           2500.0   60 months   \n",
       "2  1077175  1313524.0     2400.0       2400.0           2400.0   36 months   \n",
       "3  1076863  1277178.0    10000.0      10000.0          10000.0   36 months   \n",
       "4  1075358  1311748.0     3000.0       3000.0           3000.0   60 months   \n",
       "\n",
       "  int_rate  installment grade sub_grade            ...              \\\n",
       "0   10.65%       162.87     B        B2            ...               \n",
       "1   15.27%        59.83     C        C4            ...               \n",
       "2   15.96%        84.33     C        C5            ...               \n",
       "3   13.49%       339.31     C        C1            ...               \n",
       "4   12.69%        67.79     B        B5            ...               \n",
       "\n",
       "  num_tl_90g_dpd_24m num_tl_op_past_12m pct_tl_nvr_dlq  percent_bc_gt_75  \\\n",
       "0                NaN                NaN            NaN               NaN   \n",
       "1                NaN                NaN            NaN               NaN   \n",
       "2                NaN                NaN            NaN               NaN   \n",
       "3                NaN                NaN            NaN               NaN   \n",
       "4                NaN                NaN            NaN               NaN   \n",
       "\n",
       "  pub_rec_bankruptcies tax_liens tot_hi_cred_lim total_bal_ex_mort  \\\n",
       "0                  0.0       0.0             NaN               NaN   \n",
       "1                  0.0       0.0             NaN               NaN   \n",
       "2                  0.0       0.0             NaN               NaN   \n",
       "3                  0.0       0.0             NaN               NaN   \n",
       "4                  0.0       0.0             NaN               NaN   \n",
       "\n",
       "  total_bc_limit total_il_high_credit_limit  \n",
       "0            NaN                        NaN  \n",
       "1            NaN                        NaN  \n",
       "2            NaN                        NaN  \n",
       "3            NaN                        NaN  \n",
       "4            NaN                        NaN  \n",
       "\n",
       "[5 rows x 115 columns]"
      ]
     },
     "execution_count": 4,
     "metadata": {},
     "output_type": "execute_result"
    }
   ],
   "source": [
    "#Look at data\n",
    "dataset.head()"
   ]
  },
  {
   "cell_type": "code",
   "execution_count": 5,
   "metadata": {},
   "outputs": [
    {
     "data": {
      "text/plain": [
       "(42538, 115)"
      ]
     },
     "execution_count": 5,
     "metadata": {},
     "output_type": "execute_result"
    }
   ],
   "source": [
    "dataset.shape"
   ]
  },
  {
   "cell_type": "code",
   "execution_count": 6,
   "metadata": {
    "collapsed": true
   },
   "outputs": [],
   "source": [
    "'''Remove columns with all null values before further exploration'''\n",
    "loan_without_null = dataset.dropna(axis=1,how='all')"
   ]
  },
  {
   "cell_type": "code",
   "execution_count": 7,
   "metadata": {},
   "outputs": [
    {
     "data": {
      "text/plain": [
       "(42538, 61)"
      ]
     },
     "execution_count": 7,
     "metadata": {},
     "output_type": "execute_result"
    }
   ],
   "source": [
    "loan_without_null.shape"
   ]
  },
  {
   "cell_type": "code",
   "execution_count": 8,
   "metadata": {
    "collapsed": true
   },
   "outputs": [],
   "source": [
    "#Split data into training and test test at this stage to avoid data snooping.\n",
    "from sklearn.model_selection import train_test_split  \n",
    "\n"
   ]
  },
  {
   "cell_type": "code",
   "execution_count": 9,
   "metadata": {
    "collapsed": true
   },
   "outputs": [],
   "source": [
    "#train_set,test_set = train_test_split(loan_without_null, test_size=0.20, random_state=42)"
   ]
  },
  {
   "cell_type": "code",
   "execution_count": 10,
   "metadata": {
    "collapsed": true
   },
   "outputs": [],
   "source": [
    "#Explore the data\n",
    "loan_explore = loan_without_null.copy()"
   ]
  },
  {
   "cell_type": "code",
   "execution_count": 11,
   "metadata": {},
   "outputs": [
    {
     "data": {
      "text/plain": [
       "(42538, 61)"
      ]
     },
     "execution_count": 11,
     "metadata": {},
     "output_type": "execute_result"
    }
   ],
   "source": [
    "loan_explore.shape"
   ]
  },
  {
   "cell_type": "code",
   "execution_count": 12,
   "metadata": {},
   "outputs": [
    {
     "name": "stdout",
     "output_type": "stream",
     "text": [
      "<class 'pandas.core.frame.DataFrame'>\n",
      "RangeIndex: 42538 entries, 0 to 42537\n",
      "Data columns (total 61 columns):\n",
      "id                            42538 non-null object\n",
      "member_id                     42535 non-null float64\n",
      "loan_amnt                     42535 non-null float64\n",
      "funded_amnt                   42535 non-null float64\n",
      "funded_amnt_inv               42535 non-null float64\n",
      "term                          42535 non-null object\n",
      "int_rate                      42535 non-null object\n",
      "installment                   42535 non-null float64\n",
      "grade                         42535 non-null object\n",
      "sub_grade                     42535 non-null object\n",
      "emp_title                     39911 non-null object\n",
      "emp_length                    42535 non-null object\n",
      "home_ownership                42535 non-null object\n",
      "annual_inc                    42531 non-null float64\n",
      "verification_status           42535 non-null object\n",
      "issue_d                       42535 non-null object\n",
      "loan_status                   42535 non-null object\n",
      "pymnt_plan                    42535 non-null object\n",
      "url                           42535 non-null object\n",
      "desc                          29243 non-null object\n",
      "purpose                       42535 non-null object\n",
      "title                         42523 non-null object\n",
      "zip_code                      42535 non-null object\n",
      "addr_state                    42535 non-null object\n",
      "dti                           42535 non-null float64\n",
      "delinq_2yrs                   42506 non-null float64\n",
      "earliest_cr_line              42506 non-null object\n",
      "fico_range_low                42535 non-null float64\n",
      "fico_range_high               42535 non-null float64\n",
      "inq_last_6mths                42506 non-null float64\n",
      "mths_since_last_delinq        15609 non-null float64\n",
      "mths_since_last_record        3651 non-null float64\n",
      "open_acc                      42506 non-null float64\n",
      "pub_rec                       42506 non-null float64\n",
      "revol_bal                     42535 non-null float64\n",
      "revol_util                    42445 non-null object\n",
      "total_acc                     42506 non-null float64\n",
      "initial_list_status           42535 non-null object\n",
      "out_prncp                     42535 non-null float64\n",
      "out_prncp_inv                 42535 non-null float64\n",
      "total_pymnt                   42535 non-null float64\n",
      "total_pymnt_inv               42535 non-null float64\n",
      "total_rec_prncp               42535 non-null float64\n",
      "total_rec_int                 42535 non-null float64\n",
      "total_rec_late_fee            42535 non-null float64\n",
      "recoveries                    42535 non-null float64\n",
      "collection_recovery_fee       42535 non-null float64\n",
      "last_pymnt_d                  42452 non-null object\n",
      "last_pymnt_amnt               42535 non-null float64\n",
      "next_pymnt_d                  3296 non-null object\n",
      "last_credit_pull_d            42531 non-null object\n",
      "last_fico_range_high          42535 non-null float64\n",
      "last_fico_range_low           42535 non-null float64\n",
      "collections_12_mths_ex_med    42390 non-null float64\n",
      "policy_code                   42535 non-null float64\n",
      "application_type              42535 non-null object\n",
      "acc_now_delinq                42506 non-null float64\n",
      "chargeoff_within_12_mths      42390 non-null float64\n",
      "delinq_amnt                   42506 non-null float64\n",
      "pub_rec_bankruptcies          41170 non-null float64\n",
      "tax_liens                     42430 non-null float64\n",
      "dtypes: float64(36), object(25)\n",
      "memory usage: 19.8+ MB\n"
     ]
    }
   ],
   "source": [
    "loan_explore.info()"
   ]
  },
  {
   "cell_type": "code",
   "execution_count": 13,
   "metadata": {},
   "outputs": [
    {
     "data": {
      "text/plain": [
       "'Now we need to find the description/importance of each column name,we have data dictionary to get that'"
      ]
     },
     "execution_count": 13,
     "metadata": {},
     "output_type": "execute_result"
    }
   ],
   "source": [
    "'''Now we need to find the description/importance of each column name,we have data dictionary to get that'''"
   ]
  },
  {
   "cell_type": "code",
   "execution_count": 14,
   "metadata": {
    "collapsed": true
   },
   "outputs": [],
   "source": [
    "loan_dict = pd.read_csv('LCDataDictionary.csv')"
   ]
  },
  {
   "cell_type": "code",
   "execution_count": 15,
   "metadata": {},
   "outputs": [
    {
     "data": {
      "text/html": [
       "<div>\n",
       "<style>\n",
       "    .dataframe thead tr:only-child th {\n",
       "        text-align: right;\n",
       "    }\n",
       "\n",
       "    .dataframe thead th {\n",
       "        text-align: left;\n",
       "    }\n",
       "\n",
       "    .dataframe tbody tr th {\n",
       "        vertical-align: top;\n",
       "    }\n",
       "</style>\n",
       "<table border=\"1\" class=\"dataframe\">\n",
       "  <thead>\n",
       "    <tr style=\"text-align: right;\">\n",
       "      <th></th>\n",
       "      <th>LoanStatNew</th>\n",
       "      <th>Description</th>\n",
       "    </tr>\n",
       "  </thead>\n",
       "  <tbody>\n",
       "    <tr>\n",
       "      <th>0</th>\n",
       "      <td>acc_now_delinq</td>\n",
       "      <td>The number of accounts on which the borrower i...</td>\n",
       "    </tr>\n",
       "    <tr>\n",
       "      <th>1</th>\n",
       "      <td>acc_open_past_24mths</td>\n",
       "      <td>Number of trades opened in past 24 months.</td>\n",
       "    </tr>\n",
       "    <tr>\n",
       "      <th>2</th>\n",
       "      <td>addr_state</td>\n",
       "      <td>The state provided by the borrower in the loan...</td>\n",
       "    </tr>\n",
       "    <tr>\n",
       "      <th>3</th>\n",
       "      <td>all_util</td>\n",
       "      <td>Balance to credit limit on all trades</td>\n",
       "    </tr>\n",
       "    <tr>\n",
       "      <th>4</th>\n",
       "      <td>annual_inc</td>\n",
       "      <td>The self-reported annual income provided by th...</td>\n",
       "    </tr>\n",
       "  </tbody>\n",
       "</table>\n",
       "</div>"
      ],
      "text/plain": [
       "            LoanStatNew                                        Description\n",
       "0        acc_now_delinq  The number of accounts on which the borrower i...\n",
       "1  acc_open_past_24mths         Number of trades opened in past 24 months.\n",
       "2            addr_state  The state provided by the borrower in the loan...\n",
       "3              all_util              Balance to credit limit on all trades\n",
       "4            annual_inc  The self-reported annual income provided by th..."
      ]
     },
     "execution_count": 15,
     "metadata": {},
     "output_type": "execute_result"
    }
   ],
   "source": [
    "loan_dict.head()\n"
   ]
  },
  {
   "cell_type": "code",
   "execution_count": 16,
   "metadata": {},
   "outputs": [
    {
     "data": {
      "text/html": [
       "<div>\n",
       "<style>\n",
       "    .dataframe thead tr:only-child th {\n",
       "        text-align: right;\n",
       "    }\n",
       "\n",
       "    .dataframe thead th {\n",
       "        text-align: left;\n",
       "    }\n",
       "\n",
       "    .dataframe tbody tr th {\n",
       "        vertical-align: top;\n",
       "    }\n",
       "</style>\n",
       "<table border=\"1\" class=\"dataframe\">\n",
       "  <thead>\n",
       "    <tr style=\"text-align: right;\">\n",
       "      <th></th>\n",
       "      <th>LoanStatNew</th>\n",
       "      <th>value</th>\n",
       "      <th>Description</th>\n",
       "    </tr>\n",
       "  </thead>\n",
       "  <tbody>\n",
       "    <tr>\n",
       "      <th>0</th>\n",
       "      <td>id</td>\n",
       "      <td>1077501</td>\n",
       "      <td>A unique LC assigned ID for the loan listing.</td>\n",
       "    </tr>\n",
       "    <tr>\n",
       "      <th>1</th>\n",
       "      <td>member_id</td>\n",
       "      <td>1.2966e+06</td>\n",
       "      <td>A unique LC assigned Id for the borrower member.</td>\n",
       "    </tr>\n",
       "    <tr>\n",
       "      <th>2</th>\n",
       "      <td>loan_amnt</td>\n",
       "      <td>5000</td>\n",
       "      <td>The listed amount of the loan applied for by t...</td>\n",
       "    </tr>\n",
       "    <tr>\n",
       "      <th>3</th>\n",
       "      <td>funded_amnt</td>\n",
       "      <td>5000</td>\n",
       "      <td>The total amount committed to that loan at tha...</td>\n",
       "    </tr>\n",
       "    <tr>\n",
       "      <th>4</th>\n",
       "      <td>funded_amnt_inv</td>\n",
       "      <td>4975</td>\n",
       "      <td>The total amount committed by investors for th...</td>\n",
       "    </tr>\n",
       "    <tr>\n",
       "      <th>5</th>\n",
       "      <td>term</td>\n",
       "      <td>36 months</td>\n",
       "      <td>The number of payments on the loan. Values are...</td>\n",
       "    </tr>\n",
       "    <tr>\n",
       "      <th>6</th>\n",
       "      <td>int_rate</td>\n",
       "      <td>10.65%</td>\n",
       "      <td>Interest Rate on the loan</td>\n",
       "    </tr>\n",
       "    <tr>\n",
       "      <th>7</th>\n",
       "      <td>installment</td>\n",
       "      <td>162.87</td>\n",
       "      <td>The monthly payment owed by the borrower if th...</td>\n",
       "    </tr>\n",
       "    <tr>\n",
       "      <th>8</th>\n",
       "      <td>grade</td>\n",
       "      <td>B</td>\n",
       "      <td>LC assigned loan grade</td>\n",
       "    </tr>\n",
       "    <tr>\n",
       "      <th>9</th>\n",
       "      <td>sub_grade</td>\n",
       "      <td>B2</td>\n",
       "      <td>LC assigned loan subgrade</td>\n",
       "    </tr>\n",
       "    <tr>\n",
       "      <th>10</th>\n",
       "      <td>emp_title</td>\n",
       "      <td>NaN</td>\n",
       "      <td>The job title supplied by the Borrower when ap...</td>\n",
       "    </tr>\n",
       "    <tr>\n",
       "      <th>11</th>\n",
       "      <td>emp_length</td>\n",
       "      <td>10+ years</td>\n",
       "      <td>Employment length in years. Possible values ar...</td>\n",
       "    </tr>\n",
       "    <tr>\n",
       "      <th>12</th>\n",
       "      <td>home_ownership</td>\n",
       "      <td>RENT</td>\n",
       "      <td>The home ownership status provided by the borr...</td>\n",
       "    </tr>\n",
       "    <tr>\n",
       "      <th>13</th>\n",
       "      <td>annual_inc</td>\n",
       "      <td>24000</td>\n",
       "      <td>The self-reported annual income provided by th...</td>\n",
       "    </tr>\n",
       "    <tr>\n",
       "      <th>14</th>\n",
       "      <td>verification_status</td>\n",
       "      <td>Verified</td>\n",
       "      <td>Indicates if income was verified by LC, not ve...</td>\n",
       "    </tr>\n",
       "    <tr>\n",
       "      <th>15</th>\n",
       "      <td>issue_d</td>\n",
       "      <td>Dec-2011</td>\n",
       "      <td>The month which the loan was funded</td>\n",
       "    </tr>\n",
       "    <tr>\n",
       "      <th>16</th>\n",
       "      <td>loan_status</td>\n",
       "      <td>Fully Paid</td>\n",
       "      <td>Current status of the loan</td>\n",
       "    </tr>\n",
       "    <tr>\n",
       "      <th>17</th>\n",
       "      <td>pymnt_plan</td>\n",
       "      <td>n</td>\n",
       "      <td>Indicates if a payment plan has been put in pl...</td>\n",
       "    </tr>\n",
       "    <tr>\n",
       "      <th>18</th>\n",
       "      <td>url</td>\n",
       "      <td>https://lendingclub.com/browse/loanDetail.acti...</td>\n",
       "      <td>URL for the LC page with listing data.</td>\n",
       "    </tr>\n",
       "    <tr>\n",
       "      <th>19</th>\n",
       "      <td>desc</td>\n",
       "      <td>Borrower added on 12/22/11 &gt; I need to upgra...</td>\n",
       "      <td>Loan description provided by the borrower</td>\n",
       "    </tr>\n",
       "    <tr>\n",
       "      <th>20</th>\n",
       "      <td>purpose</td>\n",
       "      <td>credit_card</td>\n",
       "      <td>A category provided by the borrower for the lo...</td>\n",
       "    </tr>\n",
       "    <tr>\n",
       "      <th>21</th>\n",
       "      <td>title</td>\n",
       "      <td>Computer</td>\n",
       "      <td>The loan title provided by the borrower</td>\n",
       "    </tr>\n",
       "    <tr>\n",
       "      <th>22</th>\n",
       "      <td>zip_code</td>\n",
       "      <td>860xx</td>\n",
       "      <td>The first 3 numbers of the zip code provided b...</td>\n",
       "    </tr>\n",
       "    <tr>\n",
       "      <th>23</th>\n",
       "      <td>addr_state</td>\n",
       "      <td>AZ</td>\n",
       "      <td>The state provided by the borrower in the loan...</td>\n",
       "    </tr>\n",
       "    <tr>\n",
       "      <th>24</th>\n",
       "      <td>dti</td>\n",
       "      <td>27.65</td>\n",
       "      <td>A ratio calculated using the borrower’s total ...</td>\n",
       "    </tr>\n",
       "    <tr>\n",
       "      <th>25</th>\n",
       "      <td>delinq_2yrs</td>\n",
       "      <td>0</td>\n",
       "      <td>The number of 30+ days past-due incidences of ...</td>\n",
       "    </tr>\n",
       "    <tr>\n",
       "      <th>26</th>\n",
       "      <td>earliest_cr_line</td>\n",
       "      <td>Jan-1985</td>\n",
       "      <td>The month the borrower's earliest reported cre...</td>\n",
       "    </tr>\n",
       "    <tr>\n",
       "      <th>27</th>\n",
       "      <td>fico_range_low</td>\n",
       "      <td>735</td>\n",
       "      <td>The lower boundary range the borrower’s FICO a...</td>\n",
       "    </tr>\n",
       "    <tr>\n",
       "      <th>28</th>\n",
       "      <td>fico_range_high</td>\n",
       "      <td>739</td>\n",
       "      <td>The upper boundary range the borrower’s FICO a...</td>\n",
       "    </tr>\n",
       "    <tr>\n",
       "      <th>29</th>\n",
       "      <td>inq_last_6mths</td>\n",
       "      <td>1</td>\n",
       "      <td>The number of inquiries in past 6 months (excl...</td>\n",
       "    </tr>\n",
       "    <tr>\n",
       "      <th>...</th>\n",
       "      <td>...</td>\n",
       "      <td>...</td>\n",
       "      <td>...</td>\n",
       "    </tr>\n",
       "    <tr>\n",
       "      <th>31</th>\n",
       "      <td>mths_since_last_record</td>\n",
       "      <td>NaN</td>\n",
       "      <td>The number of months since the last public rec...</td>\n",
       "    </tr>\n",
       "    <tr>\n",
       "      <th>32</th>\n",
       "      <td>open_acc</td>\n",
       "      <td>3</td>\n",
       "      <td>The number of open credit lines in the borrowe...</td>\n",
       "    </tr>\n",
       "    <tr>\n",
       "      <th>33</th>\n",
       "      <td>pub_rec</td>\n",
       "      <td>0</td>\n",
       "      <td>Number of derogatory public records</td>\n",
       "    </tr>\n",
       "    <tr>\n",
       "      <th>34</th>\n",
       "      <td>revol_bal</td>\n",
       "      <td>13648</td>\n",
       "      <td>Total credit revolving balance</td>\n",
       "    </tr>\n",
       "    <tr>\n",
       "      <th>35</th>\n",
       "      <td>revol_util</td>\n",
       "      <td>83.7%</td>\n",
       "      <td>Revolving line utilization rate, or the amount...</td>\n",
       "    </tr>\n",
       "    <tr>\n",
       "      <th>36</th>\n",
       "      <td>total_acc</td>\n",
       "      <td>9</td>\n",
       "      <td>The total number of credit lines currently in ...</td>\n",
       "    </tr>\n",
       "    <tr>\n",
       "      <th>37</th>\n",
       "      <td>initial_list_status</td>\n",
       "      <td>f</td>\n",
       "      <td>The initial listing status of the loan. Possib...</td>\n",
       "    </tr>\n",
       "    <tr>\n",
       "      <th>38</th>\n",
       "      <td>out_prncp</td>\n",
       "      <td>0</td>\n",
       "      <td>Remaining outstanding principal for total amou...</td>\n",
       "    </tr>\n",
       "    <tr>\n",
       "      <th>39</th>\n",
       "      <td>out_prncp_inv</td>\n",
       "      <td>0</td>\n",
       "      <td>Remaining outstanding principal for portion of...</td>\n",
       "    </tr>\n",
       "    <tr>\n",
       "      <th>40</th>\n",
       "      <td>total_pymnt</td>\n",
       "      <td>5863.16</td>\n",
       "      <td>Payments received to date for total amount funded</td>\n",
       "    </tr>\n",
       "    <tr>\n",
       "      <th>41</th>\n",
       "      <td>total_pymnt_inv</td>\n",
       "      <td>5833.84</td>\n",
       "      <td>Payments received to date for portion of total...</td>\n",
       "    </tr>\n",
       "    <tr>\n",
       "      <th>42</th>\n",
       "      <td>total_rec_prncp</td>\n",
       "      <td>5000</td>\n",
       "      <td>Principal received to date</td>\n",
       "    </tr>\n",
       "    <tr>\n",
       "      <th>43</th>\n",
       "      <td>total_rec_int</td>\n",
       "      <td>863.16</td>\n",
       "      <td>Interest received to date</td>\n",
       "    </tr>\n",
       "    <tr>\n",
       "      <th>44</th>\n",
       "      <td>total_rec_late_fee</td>\n",
       "      <td>0</td>\n",
       "      <td>Late fees received to date</td>\n",
       "    </tr>\n",
       "    <tr>\n",
       "      <th>45</th>\n",
       "      <td>recoveries</td>\n",
       "      <td>0</td>\n",
       "      <td>post charge off gross recovery</td>\n",
       "    </tr>\n",
       "    <tr>\n",
       "      <th>46</th>\n",
       "      <td>collection_recovery_fee</td>\n",
       "      <td>0</td>\n",
       "      <td>post charge off collection fee</td>\n",
       "    </tr>\n",
       "    <tr>\n",
       "      <th>47</th>\n",
       "      <td>last_pymnt_d</td>\n",
       "      <td>Jan-2015</td>\n",
       "      <td>Last month payment was received</td>\n",
       "    </tr>\n",
       "    <tr>\n",
       "      <th>48</th>\n",
       "      <td>last_pymnt_amnt</td>\n",
       "      <td>171.62</td>\n",
       "      <td>Last total payment amount received</td>\n",
       "    </tr>\n",
       "    <tr>\n",
       "      <th>49</th>\n",
       "      <td>next_pymnt_d</td>\n",
       "      <td>NaN</td>\n",
       "      <td>Next scheduled payment date</td>\n",
       "    </tr>\n",
       "    <tr>\n",
       "      <th>50</th>\n",
       "      <td>last_credit_pull_d</td>\n",
       "      <td>Sep-2016</td>\n",
       "      <td>The most recent month LC pulled credit for thi...</td>\n",
       "    </tr>\n",
       "    <tr>\n",
       "      <th>51</th>\n",
       "      <td>last_fico_range_high</td>\n",
       "      <td>744</td>\n",
       "      <td>The upper boundary range the borrower’s last F...</td>\n",
       "    </tr>\n",
       "    <tr>\n",
       "      <th>52</th>\n",
       "      <td>last_fico_range_low</td>\n",
       "      <td>740</td>\n",
       "      <td>The lower boundary range the borrower’s last F...</td>\n",
       "    </tr>\n",
       "    <tr>\n",
       "      <th>53</th>\n",
       "      <td>collections_12_mths_ex_med</td>\n",
       "      <td>0</td>\n",
       "      <td>Number of collections in 12 months excluding m...</td>\n",
       "    </tr>\n",
       "    <tr>\n",
       "      <th>54</th>\n",
       "      <td>policy_code</td>\n",
       "      <td>1</td>\n",
       "      <td>publicly available policy_code=1\\nnew products...</td>\n",
       "    </tr>\n",
       "    <tr>\n",
       "      <th>55</th>\n",
       "      <td>application_type</td>\n",
       "      <td>INDIVIDUAL</td>\n",
       "      <td>Indicates whether the loan is an individual ap...</td>\n",
       "    </tr>\n",
       "    <tr>\n",
       "      <th>56</th>\n",
       "      <td>acc_now_delinq</td>\n",
       "      <td>0</td>\n",
       "      <td>The number of accounts on which the borrower i...</td>\n",
       "    </tr>\n",
       "    <tr>\n",
       "      <th>57</th>\n",
       "      <td>chargeoff_within_12_mths</td>\n",
       "      <td>0</td>\n",
       "      <td>Number of charge-offs within 12 months</td>\n",
       "    </tr>\n",
       "    <tr>\n",
       "      <th>58</th>\n",
       "      <td>delinq_amnt</td>\n",
       "      <td>0</td>\n",
       "      <td>The past-due amount owed for the accounts on w...</td>\n",
       "    </tr>\n",
       "    <tr>\n",
       "      <th>59</th>\n",
       "      <td>pub_rec_bankruptcies</td>\n",
       "      <td>0</td>\n",
       "      <td>Number of public record bankruptcies</td>\n",
       "    </tr>\n",
       "    <tr>\n",
       "      <th>60</th>\n",
       "      <td>tax_liens</td>\n",
       "      <td>0</td>\n",
       "      <td>Number of tax liens</td>\n",
       "    </tr>\n",
       "  </tbody>\n",
       "</table>\n",
       "<p>61 rows × 3 columns</p>\n",
       "</div>"
      ],
      "text/plain": [
       "                   LoanStatNew  \\\n",
       "0                           id   \n",
       "1                    member_id   \n",
       "2                    loan_amnt   \n",
       "3                  funded_amnt   \n",
       "4              funded_amnt_inv   \n",
       "5                         term   \n",
       "6                     int_rate   \n",
       "7                  installment   \n",
       "8                        grade   \n",
       "9                    sub_grade   \n",
       "10                   emp_title   \n",
       "11                  emp_length   \n",
       "12              home_ownership   \n",
       "13                  annual_inc   \n",
       "14         verification_status   \n",
       "15                     issue_d   \n",
       "16                 loan_status   \n",
       "17                  pymnt_plan   \n",
       "18                         url   \n",
       "19                        desc   \n",
       "20                     purpose   \n",
       "21                       title   \n",
       "22                    zip_code   \n",
       "23                  addr_state   \n",
       "24                         dti   \n",
       "25                 delinq_2yrs   \n",
       "26            earliest_cr_line   \n",
       "27              fico_range_low   \n",
       "28             fico_range_high   \n",
       "29              inq_last_6mths   \n",
       "..                         ...   \n",
       "31      mths_since_last_record   \n",
       "32                    open_acc   \n",
       "33                     pub_rec   \n",
       "34                   revol_bal   \n",
       "35                  revol_util   \n",
       "36                   total_acc   \n",
       "37         initial_list_status   \n",
       "38                   out_prncp   \n",
       "39               out_prncp_inv   \n",
       "40                 total_pymnt   \n",
       "41             total_pymnt_inv   \n",
       "42             total_rec_prncp   \n",
       "43               total_rec_int   \n",
       "44          total_rec_late_fee   \n",
       "45                  recoveries   \n",
       "46     collection_recovery_fee   \n",
       "47                last_pymnt_d   \n",
       "48             last_pymnt_amnt   \n",
       "49                next_pymnt_d   \n",
       "50          last_credit_pull_d   \n",
       "51        last_fico_range_high   \n",
       "52         last_fico_range_low   \n",
       "53  collections_12_mths_ex_med   \n",
       "54                 policy_code   \n",
       "55            application_type   \n",
       "56              acc_now_delinq   \n",
       "57    chargeoff_within_12_mths   \n",
       "58                 delinq_amnt   \n",
       "59        pub_rec_bankruptcies   \n",
       "60                   tax_liens   \n",
       "\n",
       "                                                value  \\\n",
       "0                                             1077501   \n",
       "1                                          1.2966e+06   \n",
       "2                                                5000   \n",
       "3                                                5000   \n",
       "4                                                4975   \n",
       "5                                           36 months   \n",
       "6                                              10.65%   \n",
       "7                                              162.87   \n",
       "8                                                   B   \n",
       "9                                                  B2   \n",
       "10                                                NaN   \n",
       "11                                          10+ years   \n",
       "12                                               RENT   \n",
       "13                                              24000   \n",
       "14                                           Verified   \n",
       "15                                           Dec-2011   \n",
       "16                                         Fully Paid   \n",
       "17                                                  n   \n",
       "18  https://lendingclub.com/browse/loanDetail.acti...   \n",
       "19    Borrower added on 12/22/11 > I need to upgra...   \n",
       "20                                        credit_card   \n",
       "21                                           Computer   \n",
       "22                                              860xx   \n",
       "23                                                 AZ   \n",
       "24                                              27.65   \n",
       "25                                                  0   \n",
       "26                                           Jan-1985   \n",
       "27                                                735   \n",
       "28                                                739   \n",
       "29                                                  1   \n",
       "..                                                ...   \n",
       "31                                                NaN   \n",
       "32                                                  3   \n",
       "33                                                  0   \n",
       "34                                              13648   \n",
       "35                                              83.7%   \n",
       "36                                                  9   \n",
       "37                                                  f   \n",
       "38                                                  0   \n",
       "39                                                  0   \n",
       "40                                            5863.16   \n",
       "41                                            5833.84   \n",
       "42                                               5000   \n",
       "43                                             863.16   \n",
       "44                                                  0   \n",
       "45                                                  0   \n",
       "46                                                  0   \n",
       "47                                           Jan-2015   \n",
       "48                                             171.62   \n",
       "49                                                NaN   \n",
       "50                                           Sep-2016   \n",
       "51                                                744   \n",
       "52                                                740   \n",
       "53                                                  0   \n",
       "54                                                  1   \n",
       "55                                         INDIVIDUAL   \n",
       "56                                                  0   \n",
       "57                                                  0   \n",
       "58                                                  0   \n",
       "59                                                  0   \n",
       "60                                                  0   \n",
       "\n",
       "                                          Description  \n",
       "0       A unique LC assigned ID for the loan listing.  \n",
       "1    A unique LC assigned Id for the borrower member.  \n",
       "2   The listed amount of the loan applied for by t...  \n",
       "3   The total amount committed to that loan at tha...  \n",
       "4   The total amount committed by investors for th...  \n",
       "5   The number of payments on the loan. Values are...  \n",
       "6                           Interest Rate on the loan  \n",
       "7   The monthly payment owed by the borrower if th...  \n",
       "8                              LC assigned loan grade  \n",
       "9                           LC assigned loan subgrade  \n",
       "10  The job title supplied by the Borrower when ap...  \n",
       "11  Employment length in years. Possible values ar...  \n",
       "12  The home ownership status provided by the borr...  \n",
       "13  The self-reported annual income provided by th...  \n",
       "14  Indicates if income was verified by LC, not ve...  \n",
       "15                The month which the loan was funded  \n",
       "16                         Current status of the loan  \n",
       "17  Indicates if a payment plan has been put in pl...  \n",
       "18             URL for the LC page with listing data.  \n",
       "19          Loan description provided by the borrower  \n",
       "20  A category provided by the borrower for the lo...  \n",
       "21            The loan title provided by the borrower  \n",
       "22  The first 3 numbers of the zip code provided b...  \n",
       "23  The state provided by the borrower in the loan...  \n",
       "24  A ratio calculated using the borrower’s total ...  \n",
       "25  The number of 30+ days past-due incidences of ...  \n",
       "26  The month the borrower's earliest reported cre...  \n",
       "27  The lower boundary range the borrower’s FICO a...  \n",
       "28  The upper boundary range the borrower’s FICO a...  \n",
       "29  The number of inquiries in past 6 months (excl...  \n",
       "..                                                ...  \n",
       "31  The number of months since the last public rec...  \n",
       "32  The number of open credit lines in the borrowe...  \n",
       "33                Number of derogatory public records  \n",
       "34                     Total credit revolving balance  \n",
       "35  Revolving line utilization rate, or the amount...  \n",
       "36  The total number of credit lines currently in ...  \n",
       "37  The initial listing status of the loan. Possib...  \n",
       "38  Remaining outstanding principal for total amou...  \n",
       "39  Remaining outstanding principal for portion of...  \n",
       "40  Payments received to date for total amount funded  \n",
       "41  Payments received to date for portion of total...  \n",
       "42                         Principal received to date  \n",
       "43                          Interest received to date  \n",
       "44                         Late fees received to date  \n",
       "45                     post charge off gross recovery  \n",
       "46                     post charge off collection fee  \n",
       "47                    Last month payment was received  \n",
       "48                 Last total payment amount received  \n",
       "49                        Next scheduled payment date  \n",
       "50  The most recent month LC pulled credit for thi...  \n",
       "51  The upper boundary range the borrower’s last F...  \n",
       "52  The lower boundary range the borrower’s last F...  \n",
       "53  Number of collections in 12 months excluding m...  \n",
       "54  publicly available policy_code=1\\nnew products...  \n",
       "55  Indicates whether the loan is an individual ap...  \n",
       "56  The number of accounts on which the borrower i...  \n",
       "57             Number of charge-offs within 12 months  \n",
       "58  The past-due amount owed for the accounts on w...  \n",
       "59               Number of public record bankruptcies  \n",
       "60                                Number of tax liens  \n",
       "\n",
       "[61 rows x 3 columns]"
      ]
     },
     "execution_count": 16,
     "metadata": {},
     "output_type": "execute_result"
    }
   ],
   "source": [
    "pd.merge(pd.melt(loan_explore.head(1),var_name='LoanStatNew'),loan_dict,how='left',on='LoanStatNew')"
   ]
  },
  {
   "cell_type": "code",
   "execution_count": 17,
   "metadata": {},
   "outputs": [
    {
     "data": {
      "text/plain": [
       "\"Observations:\\n1.There are 61 features out of which 36 are floats and 25 objects\\n2.Many features have more than 50% null values\\n3.Following columns can be removed\\n   1-sub_grade:already have 'grade'\\n   2-total_rec_prncp,total_rec_int:already have their sum as 'total_pymnt'\\n   3-id,member_id,emp_title,emp_length,url,desc,title,zip_code,addr_state,earliest_cr_line,\\n   last_pymnt_d,next_pymnt_d,last_credit_pull_d,pymnt_plan,policy_code,application_type,\\n   mths_since_last_record,mths_since_last_delinq,issue_d,purpose        \\n4.loan_status will be response variable\\n5.For evaluating model,we will aim for high precision\""
      ]
     },
     "execution_count": 17,
     "metadata": {},
     "output_type": "execute_result"
    }
   ],
   "source": [
    "'''Observations:\n",
    "1.There are 61 features out of which 36 are floats and 25 objects\n",
    "2.Many features have more than 50% null values\n",
    "3.Following columns can be removed\n",
    "   1-sub_grade:already have 'grade'\n",
    "   2-total_rec_prncp,total_rec_int:already have their sum as 'total_pymnt'\n",
    "   3-id,member_id,emp_title,emp_length,url,desc,title,zip_code,addr_state,earliest_cr_line,\n",
    "   last_pymnt_d,next_pymnt_d,last_credit_pull_d,pymnt_plan,policy_code,application_type,\n",
    "   mths_since_last_record,mths_since_last_delinq,issue_d,purpose        \n",
    "4.loan_status will be response variable\n",
    "5.For evaluating model,we will aim for high precision'''"
   ]
  },
  {
   "cell_type": "code",
   "execution_count": 18,
   "metadata": {
    "collapsed": true
   },
   "outputs": [],
   "source": [
    "remove_features = [\"id\",\"member_id\",\"sub_grade\",\"emp_title\",\"emp_length\",\"url\",\"desc\",\"title\",\n",
    "                   \"zip_code\",\"addr_state\",\"earliest_cr_line\",\n",
    "                   \"last_pymnt_d\",\"next_pymnt_d\",\"last_credit_pull_d\",\"pymnt_plan\",\"policy_code\",\n",
    "                   \"application_type\",\"total_rec_prncp\",\"total_rec_int\",\"mths_since_last_delinq\"\n",
    "                   ,\"mths_since_last_record\",\"issue_d\",\"purpose\"]"
   ]
  },
  {
   "cell_type": "code",
   "execution_count": 19,
   "metadata": {
    "collapsed": true
   },
   "outputs": [],
   "source": [
    "loan = loan_without_null.copy()"
   ]
  },
  {
   "cell_type": "code",
   "execution_count": 20,
   "metadata": {
    "collapsed": true
   },
   "outputs": [],
   "source": [
    "loan = loan.drop(remove_features,axis=1)"
   ]
  },
  {
   "cell_type": "code",
   "execution_count": 21,
   "metadata": {},
   "outputs": [
    {
     "name": "stdout",
     "output_type": "stream",
     "text": [
      "<class 'pandas.core.frame.DataFrame'>\n",
      "RangeIndex: 42538 entries, 0 to 42537\n",
      "Data columns (total 38 columns):\n",
      "loan_amnt                     42535 non-null float64\n",
      "funded_amnt                   42535 non-null float64\n",
      "funded_amnt_inv               42535 non-null float64\n",
      "term                          42535 non-null object\n",
      "int_rate                      42535 non-null object\n",
      "installment                   42535 non-null float64\n",
      "grade                         42535 non-null object\n",
      "home_ownership                42535 non-null object\n",
      "annual_inc                    42531 non-null float64\n",
      "verification_status           42535 non-null object\n",
      "loan_status                   42535 non-null object\n",
      "dti                           42535 non-null float64\n",
      "delinq_2yrs                   42506 non-null float64\n",
      "fico_range_low                42535 non-null float64\n",
      "fico_range_high               42535 non-null float64\n",
      "inq_last_6mths                42506 non-null float64\n",
      "open_acc                      42506 non-null float64\n",
      "pub_rec                       42506 non-null float64\n",
      "revol_bal                     42535 non-null float64\n",
      "revol_util                    42445 non-null object\n",
      "total_acc                     42506 non-null float64\n",
      "initial_list_status           42535 non-null object\n",
      "out_prncp                     42535 non-null float64\n",
      "out_prncp_inv                 42535 non-null float64\n",
      "total_pymnt                   42535 non-null float64\n",
      "total_pymnt_inv               42535 non-null float64\n",
      "total_rec_late_fee            42535 non-null float64\n",
      "recoveries                    42535 non-null float64\n",
      "collection_recovery_fee       42535 non-null float64\n",
      "last_pymnt_amnt               42535 non-null float64\n",
      "last_fico_range_high          42535 non-null float64\n",
      "last_fico_range_low           42535 non-null float64\n",
      "collections_12_mths_ex_med    42390 non-null float64\n",
      "acc_now_delinq                42506 non-null float64\n",
      "chargeoff_within_12_mths      42390 non-null float64\n",
      "delinq_amnt                   42506 non-null float64\n",
      "pub_rec_bankruptcies          41170 non-null float64\n",
      "tax_liens                     42430 non-null float64\n",
      "dtypes: float64(30), object(8)\n",
      "memory usage: 12.3+ MB\n"
     ]
    }
   ],
   "source": [
    "loan.info()"
   ]
  },
  {
   "cell_type": "code",
   "execution_count": 22,
   "metadata": {},
   "outputs": [
    {
     "data": {
      "text/plain": [
       "0.0    42429\n",
       "1.0        1\n",
       "Name: tax_liens, dtype: int64"
      ]
     },
     "execution_count": 22,
     "metadata": {},
     "output_type": "execute_result"
    }
   ],
   "source": [
    "'''Check unique value count of each column'''\n",
    "'''loan.tax_liens.nunique()'''\n",
    "loan.tax_liens.value_counts()"
   ]
  },
  {
   "cell_type": "code",
   "execution_count": 23,
   "metadata": {
    "collapsed": true
   },
   "outputs": [],
   "source": [
    "'After doing unique value analysis,following columns can be removed as they have constant values'\n",
    "remove_features = ['tax_liens','delinq_amnt','chargeoff_within_12_mths','acc_now_delinq','collections_12_mths_ex_med',\n",
    "                   'initial_list_status','out_prncp','out_prncp_inv']"
   ]
  },
  {
   "cell_type": "code",
   "execution_count": 24,
   "metadata": {
    "collapsed": true
   },
   "outputs": [],
   "source": [
    "loan = loan.drop(remove_features,axis=1)"
   ]
  },
  {
   "cell_type": "code",
   "execution_count": 25,
   "metadata": {},
   "outputs": [
    {
     "name": "stdout",
     "output_type": "stream",
     "text": [
      "<class 'pandas.core.frame.DataFrame'>\n",
      "RangeIndex: 42538 entries, 0 to 42537\n",
      "Data columns (total 30 columns):\n",
      "loan_amnt                  42535 non-null float64\n",
      "funded_amnt                42535 non-null float64\n",
      "funded_amnt_inv            42535 non-null float64\n",
      "term                       42535 non-null object\n",
      "int_rate                   42535 non-null object\n",
      "installment                42535 non-null float64\n",
      "grade                      42535 non-null object\n",
      "home_ownership             42535 non-null object\n",
      "annual_inc                 42531 non-null float64\n",
      "verification_status        42535 non-null object\n",
      "loan_status                42535 non-null object\n",
      "dti                        42535 non-null float64\n",
      "delinq_2yrs                42506 non-null float64\n",
      "fico_range_low             42535 non-null float64\n",
      "fico_range_high            42535 non-null float64\n",
      "inq_last_6mths             42506 non-null float64\n",
      "open_acc                   42506 non-null float64\n",
      "pub_rec                    42506 non-null float64\n",
      "revol_bal                  42535 non-null float64\n",
      "revol_util                 42445 non-null object\n",
      "total_acc                  42506 non-null float64\n",
      "total_pymnt                42535 non-null float64\n",
      "total_pymnt_inv            42535 non-null float64\n",
      "total_rec_late_fee         42535 non-null float64\n",
      "recoveries                 42535 non-null float64\n",
      "collection_recovery_fee    42535 non-null float64\n",
      "last_pymnt_amnt            42535 non-null float64\n",
      "last_fico_range_high       42535 non-null float64\n",
      "last_fico_range_low        42535 non-null float64\n",
      "pub_rec_bankruptcies       41170 non-null float64\n",
      "dtypes: float64(23), object(7)\n",
      "memory usage: 9.7+ MB\n"
     ]
    }
   ],
   "source": [
    "loan.info()"
   ]
  },
  {
   "cell_type": "code",
   "execution_count": 26,
   "metadata": {},
   "outputs": [
    {
     "data": {
      "text/plain": [
       "\"Observations for 7 Objects:   \\n1.Following columns data need modification:\\n   1-term:need to remove word 'months' from data\\n   2-int_rate,revol_util:need to remove % from data\\n \\n2.Following columns need encoding:\\n  1-grade,home_ownership,verification_status,loan_status\\n\""
      ]
     },
     "execution_count": 26,
     "metadata": {},
     "output_type": "execute_result"
    }
   ],
   "source": [
    "'''Observations for 7 Objects:   \n",
    "1.Following columns data need modification:\n",
    "   1-term:need to remove word 'months' from data\n",
    "   2-int_rate,revol_util:need to remove % from data\n",
    " \n",
    "2.Following columns need encoding:\n",
    "  1-grade,home_ownership,verification_status,loan_status\n",
    "'''"
   ]
  },
  {
   "cell_type": "code",
   "execution_count": 27,
   "metadata": {
    "collapsed": true
   },
   "outputs": [],
   "source": [
    "loan = loan.where(loan.loan_status.str.contains(\"Fully Paid\")\n",
    "                    | loan.loan_status.str.contains(\"Charged Off\"))"
   ]
  },
  {
   "cell_type": "code",
   "execution_count": 28,
   "metadata": {
    "collapsed": true
   },
   "outputs": [],
   "source": [
    "loan_temp = loan.dropna(axis=0, how='all')"
   ]
  },
  {
   "cell_type": "code",
   "execution_count": 29,
   "metadata": {},
   "outputs": [
    {
     "data": {
      "text/plain": [
       "Fully Paid                                             33586\n",
       "Charged Off                                             5653\n",
       "Does not meet the credit policy. Status:Fully Paid      1988\n",
       "Does not meet the credit policy. Status:Charged Off      761\n",
       "Name: loan_status, dtype: int64"
      ]
     },
     "execution_count": 29,
     "metadata": {},
     "output_type": "execute_result"
    }
   ],
   "source": [
    "loan_temp.loan_status.value_counts(dropna=False)"
   ]
  },
  {
   "cell_type": "code",
   "execution_count": 30,
   "metadata": {
    "collapsed": true
   },
   "outputs": [],
   "source": [
    "loan[\"loan_status\"] = loan.loan_status.str.contains(\"Fully Paid\").astype(float)"
   ]
  },
  {
   "cell_type": "code",
   "execution_count": 31,
   "metadata": {},
   "outputs": [
    {
     "data": {
      "text/plain": [
       "1.0    35574\n",
       "0.0     6414\n",
       "Name: loan_status, dtype: int64"
      ]
     },
     "execution_count": 31,
     "metadata": {},
     "output_type": "execute_result"
    }
   ],
   "source": [
    "loan.loan_status.value_counts()"
   ]
  },
  {
   "cell_type": "code",
   "execution_count": 32,
   "metadata": {
    "collapsed": true
   },
   "outputs": [],
   "source": [
    "from sklearn.base import BaseEstimator,TransformerMixin\n",
    "import re\n",
    "class ObjectToNumericConverter(BaseEstimator,TransformerMixin):\n",
    "    def __init__(self,attribute_name,string):\n",
    "        self.attribute_name = attribute_name\n",
    "        self.string = string\n",
    "    def fit(self, X, y=None):\n",
    "        return self\n",
    "    def transform(self,X,y=None):\n",
    "        #loan_temp = X\n",
    "       # loan_temp[self.attribute_name].replace(self.string,'',regex=True,inplace=True)\n",
    "        #loan_temp[[self.attribute_name]] = loan_temp[[self.attribute_name]].apply(pd.to_numeric)\n",
    "       # return loan_temp.values\n",
    "      \n",
    "        X[self.attribute_name].replace(self.string,'',regex=True,inplace=True)\n",
    "        X[[self.attribute_name]] = X[[self.attribute_name]].apply(pd.to_numeric)\n",
    "        return X.values"
   ]
  },
  {
   "cell_type": "code",
   "execution_count": 33,
   "metadata": {},
   "outputs": [
    {
     "data": {
      "text/plain": [
       "array([[5000.0, 5000.0, 4975.0, ..., 744.0, 740.0, 0.0],\n",
       "       [2500.0, 2500.0, 2500.0, ..., 499.0, 0.0, 0.0],\n",
       "       [2400.0, 2400.0, 2400.0, ..., 719.0, 715.0, 0.0],\n",
       "       ..., \n",
       "       [5000.0, 5000.0, 0.0, ..., 794.0, 790.0, nan],\n",
       "       [nan, nan, nan, ..., nan, nan, nan],\n",
       "       [nan, nan, nan, ..., nan, nan, nan]], dtype=object)"
      ]
     },
     "execution_count": 33,
     "metadata": {},
     "output_type": "execute_result"
    }
   ],
   "source": [
    "ObjectToNumericConverter(\"term\",\"months\").transform(loan)"
   ]
  },
  {
   "cell_type": "code",
   "execution_count": 34,
   "metadata": {},
   "outputs": [
    {
     "data": {
      "text/plain": [
       "array([[5000.0, 5000.0, 4975.0, ..., 744.0, 740.0, 0.0],\n",
       "       [2500.0, 2500.0, 2500.0, ..., 499.0, 0.0, 0.0],\n",
       "       [2400.0, 2400.0, 2400.0, ..., 719.0, 715.0, 0.0],\n",
       "       ..., \n",
       "       [5000.0, 5000.0, 0.0, ..., 794.0, 790.0, nan],\n",
       "       [nan, nan, nan, ..., nan, nan, nan],\n",
       "       [nan, nan, nan, ..., nan, nan, nan]], dtype=object)"
      ]
     },
     "execution_count": 34,
     "metadata": {},
     "output_type": "execute_result"
    }
   ],
   "source": [
    "ObjectToNumericConverter(\"int_rate\",\"%\").transform(loan)"
   ]
  },
  {
   "cell_type": "code",
   "execution_count": 35,
   "metadata": {},
   "outputs": [
    {
     "data": {
      "text/plain": [
       "array([[5000.0, 5000.0, 4975.0, ..., 744.0, 740.0, 0.0],\n",
       "       [2500.0, 2500.0, 2500.0, ..., 499.0, 0.0, 0.0],\n",
       "       [2400.0, 2400.0, 2400.0, ..., 719.0, 715.0, 0.0],\n",
       "       ..., \n",
       "       [5000.0, 5000.0, 0.0, ..., 794.0, 790.0, nan],\n",
       "       [nan, nan, nan, ..., nan, nan, nan],\n",
       "       [nan, nan, nan, ..., nan, nan, nan]], dtype=object)"
      ]
     },
     "execution_count": 35,
     "metadata": {},
     "output_type": "execute_result"
    }
   ],
   "source": [
    "ObjectToNumericConverter(\"revol_util\",\"%\").transform(loan)"
   ]
  },
  {
   "cell_type": "code",
   "execution_count": 36,
   "metadata": {},
   "outputs": [
    {
     "name": "stdout",
     "output_type": "stream",
     "text": [
      "<class 'pandas.core.frame.DataFrame'>\n",
      "RangeIndex: 42538 entries, 0 to 42537\n",
      "Data columns (total 30 columns):\n",
      "loan_amnt                  41988 non-null float64\n",
      "funded_amnt                41988 non-null float64\n",
      "funded_amnt_inv            41988 non-null float64\n",
      "term                       41988 non-null float64\n",
      "int_rate                   41988 non-null float64\n",
      "installment                41988 non-null float64\n",
      "grade                      41988 non-null object\n",
      "home_ownership             41988 non-null object\n",
      "annual_inc                 41984 non-null float64\n",
      "verification_status        41988 non-null object\n",
      "loan_status                41988 non-null float64\n",
      "dti                        41988 non-null float64\n",
      "delinq_2yrs                41959 non-null float64\n",
      "fico_range_low             41988 non-null float64\n",
      "fico_range_high            41988 non-null float64\n",
      "inq_last_6mths             41959 non-null float64\n",
      "open_acc                   41959 non-null float64\n",
      "pub_rec                    41959 non-null float64\n",
      "revol_bal                  41988 non-null float64\n",
      "revol_util                 41898 non-null float64\n",
      "total_acc                  41959 non-null float64\n",
      "total_pymnt                41988 non-null float64\n",
      "total_pymnt_inv            41988 non-null float64\n",
      "total_rec_late_fee         41988 non-null float64\n",
      "recoveries                 41988 non-null float64\n",
      "collection_recovery_fee    41988 non-null float64\n",
      "last_pymnt_amnt            41988 non-null float64\n",
      "last_fico_range_high       41988 non-null float64\n",
      "last_fico_range_low        41988 non-null float64\n",
      "pub_rec_bankruptcies       40623 non-null float64\n",
      "dtypes: float64(27), object(3)\n",
      "memory usage: 9.7+ MB\n"
     ]
    }
   ],
   "source": [
    "loan.info()"
   ]
  },
  {
   "cell_type": "code",
   "execution_count": 37,
   "metadata": {
    "collapsed": true
   },
   "outputs": [],
   "source": [
    "'''We need to fill Nan with most frequent value in categorical variables'''\n",
    "loan.grade.fillna(loan['grade'].value_counts().index[0],inplace=True)\n",
    "loan.home_ownership.fillna(loan['home_ownership'].value_counts().index[0],inplace=True)\n",
    "loan.verification_status.fillna(loan['verification_status'].value_counts().index[0],inplace=True)\n"
   ]
  },
  {
   "cell_type": "code",
   "execution_count": 38,
   "metadata": {},
   "outputs": [
    {
     "name": "stdout",
     "output_type": "stream",
     "text": [
      "<class 'pandas.core.frame.DataFrame'>\n",
      "RangeIndex: 42538 entries, 0 to 42537\n",
      "Data columns (total 30 columns):\n",
      "loan_amnt                  41988 non-null float64\n",
      "funded_amnt                41988 non-null float64\n",
      "funded_amnt_inv            41988 non-null float64\n",
      "term                       41988 non-null float64\n",
      "int_rate                   41988 non-null float64\n",
      "installment                41988 non-null float64\n",
      "grade                      42538 non-null object\n",
      "home_ownership             42538 non-null object\n",
      "annual_inc                 41984 non-null float64\n",
      "verification_status        42538 non-null object\n",
      "loan_status                41988 non-null float64\n",
      "dti                        41988 non-null float64\n",
      "delinq_2yrs                41959 non-null float64\n",
      "fico_range_low             41988 non-null float64\n",
      "fico_range_high            41988 non-null float64\n",
      "inq_last_6mths             41959 non-null float64\n",
      "open_acc                   41959 non-null float64\n",
      "pub_rec                    41959 non-null float64\n",
      "revol_bal                  41988 non-null float64\n",
      "revol_util                 41898 non-null float64\n",
      "total_acc                  41959 non-null float64\n",
      "total_pymnt                41988 non-null float64\n",
      "total_pymnt_inv            41988 non-null float64\n",
      "total_rec_late_fee         41988 non-null float64\n",
      "recoveries                 41988 non-null float64\n",
      "collection_recovery_fee    41988 non-null float64\n",
      "last_pymnt_amnt            41988 non-null float64\n",
      "last_fico_range_high       41988 non-null float64\n",
      "last_fico_range_low        41988 non-null float64\n",
      "pub_rec_bankruptcies       40623 non-null float64\n",
      "dtypes: float64(27), object(3)\n",
      "memory usage: 9.7+ MB\n"
     ]
    }
   ],
   "source": [
    "loan.info()"
   ]
  },
  {
   "cell_type": "code",
   "execution_count": 39,
   "metadata": {},
   "outputs": [
    {
     "data": {
      "text/plain": [
       " 1.0    35574\n",
       " 0.0     6414\n",
       "NaN       550\n",
       "Name: loan_status, dtype: int64"
      ]
     },
     "execution_count": 39,
     "metadata": {},
     "output_type": "execute_result"
    }
   ],
   "source": [
    "loan.loan_status.value_counts(dropna=False)"
   ]
  },
  {
   "cell_type": "code",
   "execution_count": 40,
   "metadata": {
    "collapsed": true
   },
   "outputs": [],
   "source": [
    "loan.dropna(subset=['loan_status'],inplace=True)"
   ]
  },
  {
   "cell_type": "code",
   "execution_count": 41,
   "metadata": {},
   "outputs": [
    {
     "name": "stdout",
     "output_type": "stream",
     "text": [
      "<class 'pandas.core.frame.DataFrame'>\n",
      "Int64Index: 41988 entries, 0 to 42535\n",
      "Data columns (total 30 columns):\n",
      "loan_amnt                  41988 non-null float64\n",
      "funded_amnt                41988 non-null float64\n",
      "funded_amnt_inv            41988 non-null float64\n",
      "term                       41988 non-null float64\n",
      "int_rate                   41988 non-null float64\n",
      "installment                41988 non-null float64\n",
      "grade                      41988 non-null object\n",
      "home_ownership             41988 non-null object\n",
      "annual_inc                 41984 non-null float64\n",
      "verification_status        41988 non-null object\n",
      "loan_status                41988 non-null float64\n",
      "dti                        41988 non-null float64\n",
      "delinq_2yrs                41959 non-null float64\n",
      "fico_range_low             41988 non-null float64\n",
      "fico_range_high            41988 non-null float64\n",
      "inq_last_6mths             41959 non-null float64\n",
      "open_acc                   41959 non-null float64\n",
      "pub_rec                    41959 non-null float64\n",
      "revol_bal                  41988 non-null float64\n",
      "revol_util                 41898 non-null float64\n",
      "total_acc                  41959 non-null float64\n",
      "total_pymnt                41988 non-null float64\n",
      "total_pymnt_inv            41988 non-null float64\n",
      "total_rec_late_fee         41988 non-null float64\n",
      "recoveries                 41988 non-null float64\n",
      "collection_recovery_fee    41988 non-null float64\n",
      "last_pymnt_amnt            41988 non-null float64\n",
      "last_fico_range_high       41988 non-null float64\n",
      "last_fico_range_low        41988 non-null float64\n",
      "pub_rec_bankruptcies       40623 non-null float64\n",
      "dtypes: float64(27), object(3)\n",
      "memory usage: 9.9+ MB\n"
     ]
    }
   ],
   "source": [
    "loan.info()"
   ]
  },
  {
   "cell_type": "code",
   "execution_count": null,
   "metadata": {
    "collapsed": true
   },
   "outputs": [],
   "source": []
  },
  {
   "cell_type": "code",
   "execution_count": 42,
   "metadata": {},
   "outputs": [
    {
     "name": "stdout",
     "output_type": "stream",
     "text": [
      "Populating the interactive namespace from numpy and matplotlib\n"
     ]
    },
    {
     "data": {
      "image/png": "[encoded data removed]",
      "text/plain": [
       "<matplotlib.figure.Figure at 0x18fa2a2c5c0>"
      ]
     },
     "metadata": {},
     "output_type": "display_data"
    }
   ],
   "source": [
    "#Find correlation \n",
    "names = list(loan.columns)\n",
    "corr = loan.corr()\n",
    "# plot correlation matrix\n",
    "#Plot Correlation Matrix using Matplotlib\n",
    "%pylab inline\n",
    "plt.figure(figsize=(10, 10))\n",
    "plt.imshow(corr, cmap='RdYlGn', interpolation='none', aspect='auto')\n",
    "plt.colorbar()\n",
    "plt.xticks(range(len(corr)), corr.columns, rotation='vertical')\n",
    "plt.yticks(range(len(corr)), corr.columns);\n",
    "plt.suptitle('Stock Correlations Heat Map', fontsize=15, fontweight='bold')\n",
    "plt.show()\n"
   ]
  },
  {
   "cell_type": "code",
   "execution_count": 43,
   "metadata": {},
   "outputs": [
    {
     "data": {
      "text/plain": [
       "'Observations:\\n1.loan_amnt,funded_amnt are highly correlated,so either one of them can be removed\\n2. Same for pub_rec and pub_rec_bankruptcies\\n3. Same for int_rate and fico_range_low,fico_range_high\\n'"
      ]
     },
     "execution_count": 43,
     "metadata": {},
     "output_type": "execute_result"
    }
   ],
   "source": [
    "'''Observations:\n",
    "1.loan_amnt,funded_amnt are highly correlated,so either one of them can be removed\n",
    "2. Same for pub_rec and pub_rec_bankruptcies\n",
    "3. Same for int_rate and fico_range_low,fico_range_high\n",
    "'''"
   ]
  },
  {
   "cell_type": "code",
   "execution_count": 44,
   "metadata": {
    "collapsed": true
   },
   "outputs": [],
   "source": [
    "loan.drop([\"funded_amnt\",\"pub_rec_bankruptcies\",\"fico_range_low\",\"fico_range_high\"],axis=1,inplace=True)"
   ]
  },
  {
   "cell_type": "code",
   "execution_count": 45,
   "metadata": {},
   "outputs": [
    {
     "name": "stdout",
     "output_type": "stream",
     "text": [
      "<class 'pandas.core.frame.DataFrame'>\n",
      "Int64Index: 41988 entries, 0 to 42535\n",
      "Data columns (total 26 columns):\n",
      "loan_amnt                  41988 non-null float64\n",
      "funded_amnt_inv            41988 non-null float64\n",
      "term                       41988 non-null float64\n",
      "int_rate                   41988 non-null float64\n",
      "installment                41988 non-null float64\n",
      "grade                      41988 non-null object\n",
      "home_ownership             41988 non-null object\n",
      "annual_inc                 41984 non-null float64\n",
      "verification_status        41988 non-null object\n",
      "loan_status                41988 non-null float64\n",
      "dti                        41988 non-null float64\n",
      "delinq_2yrs                41959 non-null float64\n",
      "inq_last_6mths             41959 non-null float64\n",
      "open_acc                   41959 non-null float64\n",
      "pub_rec                    41959 non-null float64\n",
      "revol_bal                  41988 non-null float64\n",
      "revol_util                 41898 non-null float64\n",
      "total_acc                  41959 non-null float64\n",
      "total_pymnt                41988 non-null float64\n",
      "total_pymnt_inv            41988 non-null float64\n",
      "total_rec_late_fee         41988 non-null float64\n",
      "recoveries                 41988 non-null float64\n",
      "collection_recovery_fee    41988 non-null float64\n",
      "last_pymnt_amnt            41988 non-null float64\n",
      "last_fico_range_high       41988 non-null float64\n",
      "last_fico_range_low        41988 non-null float64\n",
      "dtypes: float64(23), object(3)\n",
      "memory usage: 8.6+ MB\n"
     ]
    }
   ],
   "source": [
    "loan.info()"
   ]
  },
  {
   "cell_type": "code",
   "execution_count": 46,
   "metadata": {},
   "outputs": [
    {
     "data": {
      "text/plain": [
       "'Now we only need to encode 3 categorical features and transform and scale numerical features,\\nbut before that we should create feature and response'"
      ]
     },
     "execution_count": 46,
     "metadata": {},
     "output_type": "execute_result"
    }
   ],
   "source": [
    "'''Now we only need to encode 3 categorical features and transform and scale numerical features,\n",
    "but before that we should create feature and response'''"
   ]
  },
  {
   "cell_type": "code",
   "execution_count": 47,
   "metadata": {
    "collapsed": true
   },
   "outputs": [],
   "source": [
    "#Create features and Response\n",
    "loan_data = loan.drop(\"loan_status\",axis=1)\n",
    "loan_label = loan[\"loan_status\"]\n"
   ]
  },
  {
   "cell_type": "code",
   "execution_count": 48,
   "metadata": {
    "collapsed": true
   },
   "outputs": [],
   "source": [
    "cat_attribs = ['grade','home_ownership','verification_status']\n",
    "loan_num = loan_data.drop(cat_attribs,axis = 1)\n",
    "num_attribs = list(loan_num)"
   ]
  },
  {
   "cell_type": "code",
   "execution_count": 49,
   "metadata": {
    "collapsed": true
   },
   "outputs": [],
   "source": [
    "loan_prepared_cat = pd.get_dummies(loan_data[cat_attribs])\n",
    "\n",
    "\n"
   ]
  },
  {
   "cell_type": "code",
   "execution_count": 50,
   "metadata": {
    "collapsed": true
   },
   "outputs": [],
   "source": [
    "loan_data = pd.concat([loan_data,loan_prepared_cat],axis=1)"
   ]
  },
  {
   "cell_type": "code",
   "execution_count": 51,
   "metadata": {},
   "outputs": [
    {
     "name": "stdout",
     "output_type": "stream",
     "text": [
      "<class 'pandas.core.frame.DataFrame'>\n",
      "Int64Index: 41988 entries, 0 to 42535\n",
      "Data columns (total 40 columns):\n",
      "loan_amnt                              41988 non-null float64\n",
      "funded_amnt_inv                        41988 non-null float64\n",
      "term                                   41988 non-null float64\n",
      "int_rate                               41988 non-null float64\n",
      "installment                            41988 non-null float64\n",
      "grade                                  41988 non-null object\n",
      "home_ownership                         41988 non-null object\n",
      "annual_inc                             41984 non-null float64\n",
      "verification_status                    41988 non-null object\n",
      "dti                                    41988 non-null float64\n",
      "delinq_2yrs                            41959 non-null float64\n",
      "inq_last_6mths                         41959 non-null float64\n",
      "open_acc                               41959 non-null float64\n",
      "pub_rec                                41959 non-null float64\n",
      "revol_bal                              41988 non-null float64\n",
      "revol_util                             41898 non-null float64\n",
      "total_acc                              41959 non-null float64\n",
      "total_pymnt                            41988 non-null float64\n",
      "total_pymnt_inv                        41988 non-null float64\n",
      "total_rec_late_fee                     41988 non-null float64\n",
      "recoveries                             41988 non-null float64\n",
      "collection_recovery_fee                41988 non-null float64\n",
      "last_pymnt_amnt                        41988 non-null float64\n",
      "last_fico_range_high                   41988 non-null float64\n",
      "last_fico_range_low                    41988 non-null float64\n",
      "grade_A                                41988 non-null uint8\n",
      "grade_B                                41988 non-null uint8\n",
      "grade_C                                41988 non-null uint8\n",
      "grade_D                                41988 non-null uint8\n",
      "grade_E                                41988 non-null uint8\n",
      "grade_F                                41988 non-null uint8\n",
      "grade_G                                41988 non-null uint8\n",
      "home_ownership_MORTGAGE                41988 non-null uint8\n",
      "home_ownership_NONE                    41988 non-null uint8\n",
      "home_ownership_OTHER                   41988 non-null uint8\n",
      "home_ownership_OWN                     41988 non-null uint8\n",
      "home_ownership_RENT                    41988 non-null uint8\n",
      "verification_status_Not Verified       41988 non-null uint8\n",
      "verification_status_Source Verified    41988 non-null uint8\n",
      "verification_status_Verified           41988 non-null uint8\n",
      "dtypes: float64(22), object(3), uint8(15)\n",
      "memory usage: 8.9+ MB\n"
     ]
    }
   ],
   "source": [
    "loan_data.info()"
   ]
  },
  {
   "cell_type": "code",
   "execution_count": 52,
   "metadata": {
    "collapsed": true
   },
   "outputs": [],
   "source": [
    "loan_data = loan_data.drop(cat_attribs,axis = 1)"
   ]
  },
  {
   "cell_type": "code",
   "execution_count": 53,
   "metadata": {
    "collapsed": true
   },
   "outputs": [],
   "source": [
    "'''Class to select given datatype columns'''\n",
    "class DataFrameSelector(BaseEstimator, TransformerMixin):\n",
    "    def __init__(self, attribute_names):\n",
    "        self.attribute_names = attribute_names\n",
    "    def fit(self, X, y=None):\n",
    "        return self\n",
    "    def transform(self, X):\n",
    "        return X[self.attribute_names].values"
   ]
  },
  {
   "cell_type": "code",
   "execution_count": 54,
   "metadata": {
    "collapsed": true
   },
   "outputs": [],
   "source": [
    "#Pipeline\n",
    "from sklearn.pipeline import Pipeline\n",
    "from sklearn.preprocessing import StandardScaler,Imputer\n"
   ]
  },
  {
   "cell_type": "code",
   "execution_count": 55,
   "metadata": {
    "collapsed": true
   },
   "outputs": [],
   "source": [
    "num_pipeline = Pipeline([\n",
    "                           ('selector',DataFrameSelector(num_attribs)),\n",
    "                           ('imputer',Imputer(strategy='median')),\n",
    "                           ('std_scalar',StandardScaler())\n",
    "                       ])"
   ]
  },
  {
   "cell_type": "code",
   "execution_count": 56,
   "metadata": {
    "collapsed": true
   },
   "outputs": [],
   "source": [
    "loan_prepared_num = num_pipeline.fit_transform(loan_data)"
   ]
  },
  {
   "cell_type": "code",
   "execution_count": 57,
   "metadata": {},
   "outputs": [
    {
     "data": {
      "text/plain": [
       "(41988, 22)"
      ]
     },
     "execution_count": 57,
     "metadata": {},
     "output_type": "execute_result"
    }
   ],
   "source": [
    "loan_prepared_num.shape"
   ]
  },
  {
   "cell_type": "code",
   "execution_count": 58,
   "metadata": {
    "collapsed": true
   },
   "outputs": [],
   "source": [
    "loan_prepared_num = pd.DataFrame(loan_prepared_num,columns=num_attribs)"
   ]
  },
  {
   "cell_type": "code",
   "execution_count": 59,
   "metadata": {
    "collapsed": true
   },
   "outputs": [],
   "source": [
    "loan_data = loan_data.drop(num_attribs,axis=1)"
   ]
  },
  {
   "cell_type": "code",
   "execution_count": 60,
   "metadata": {},
   "outputs": [
    {
     "data": {
      "text/plain": [
       "(41988, 15)"
      ]
     },
     "execution_count": 60,
     "metadata": {},
     "output_type": "execute_result"
    }
   ],
   "source": [
    "loan_data.shape"
   ]
  },
  {
   "cell_type": "code",
   "execution_count": 61,
   "metadata": {},
   "outputs": [
    {
     "data": {
      "text/plain": [
       "RangeIndex(start=0, stop=41988, step=1)"
      ]
     },
     "execution_count": 61,
     "metadata": {},
     "output_type": "execute_result"
    }
   ],
   "source": [
    "loan_prepared_num.index"
   ]
  },
  {
   "cell_type": "code",
   "execution_count": 62,
   "metadata": {},
   "outputs": [
    {
     "data": {
      "text/plain": [
       "Int64Index([    0,     1,     2,     3,     5,     6,     7,     8,     9,\n",
       "               10,\n",
       "            ...\n",
       "            42526, 42527, 42528, 42529, 42530, 42531, 42532, 42533, 42534,\n",
       "            42535],\n",
       "           dtype='int64', length=41988)"
      ]
     },
     "execution_count": 62,
     "metadata": {},
     "output_type": "execute_result"
    }
   ],
   "source": [
    "loan_data.index"
   ]
  },
  {
   "cell_type": "code",
   "execution_count": 63,
   "metadata": {
    "collapsed": true
   },
   "outputs": [],
   "source": [
    "loan_prepared_num = loan_prepared_num.set_index(loan_data.index)"
   ]
  },
  {
   "cell_type": "code",
   "execution_count": 64,
   "metadata": {
    "collapsed": true
   },
   "outputs": [],
   "source": [
    "loan_prepared = pd.concat([loan_prepared_num,loan_data],axis=1)"
   ]
  },
  {
   "cell_type": "code",
   "execution_count": 65,
   "metadata": {},
   "outputs": [
    {
     "data": {
      "text/html": [
       "<div>\n",
       "<style>\n",
       "    .dataframe thead tr:only-child th {\n",
       "        text-align: right;\n",
       "    }\n",
       "\n",
       "    .dataframe thead th {\n",
       "        text-align: left;\n",
       "    }\n",
       "\n",
       "    .dataframe tbody tr th {\n",
       "        vertical-align: top;\n",
       "    }\n",
       "</style>\n",
       "<table border=\"1\" class=\"dataframe\">\n",
       "  <thead>\n",
       "    <tr style=\"text-align: right;\">\n",
       "      <th></th>\n",
       "      <th>loan_amnt</th>\n",
       "      <th>funded_amnt_inv</th>\n",
       "      <th>term</th>\n",
       "      <th>int_rate</th>\n",
       "      <th>installment</th>\n",
       "      <th>annual_inc</th>\n",
       "      <th>dti</th>\n",
       "      <th>delinq_2yrs</th>\n",
       "      <th>inq_last_6mths</th>\n",
       "      <th>open_acc</th>\n",
       "      <th>...</th>\n",
       "      <th>grade_F</th>\n",
       "      <th>grade_G</th>\n",
       "      <th>home_ownership_MORTGAGE</th>\n",
       "      <th>home_ownership_NONE</th>\n",
       "      <th>home_ownership_OTHER</th>\n",
       "      <th>home_ownership_OWN</th>\n",
       "      <th>home_ownership_RENT</th>\n",
       "      <th>verification_status_Not Verified</th>\n",
       "      <th>verification_status_Source Verified</th>\n",
       "      <th>verification_status_Verified</th>\n",
       "    </tr>\n",
       "  </thead>\n",
       "  <tbody>\n",
       "    <tr>\n",
       "      <th>0</th>\n",
       "      <td>-0.816440</td>\n",
       "      <td>-0.717811</td>\n",
       "      <td>-0.575774</td>\n",
       "      <td>-0.399141</td>\n",
       "      <td>-0.759593</td>\n",
       "      <td>-0.700410</td>\n",
       "      <td>2.126020</td>\n",
       "      <td>-0.297612</td>\n",
       "      <td>-0.055711</td>\n",
       "      <td>-1.408960</td>\n",
       "      <td>...</td>\n",
       "      <td>0</td>\n",
       "      <td>0</td>\n",
       "      <td>0</td>\n",
       "      <td>0</td>\n",
       "      <td>0</td>\n",
       "      <td>0</td>\n",
       "      <td>1</td>\n",
       "      <td>0</td>\n",
       "      <td>0</td>\n",
       "      <td>1</td>\n",
       "    </tr>\n",
       "    <tr>\n",
       "      <th>1</th>\n",
       "      <td>-1.156761</td>\n",
       "      <td>-1.068494</td>\n",
       "      <td>1.736794</td>\n",
       "      <td>0.852565</td>\n",
       "      <td>-1.253834</td>\n",
       "      <td>-0.607124</td>\n",
       "      <td>-1.836527</td>\n",
       "      <td>-0.297612</td>\n",
       "      <td>2.555000</td>\n",
       "      <td>-1.408960</td>\n",
       "      <td>...</td>\n",
       "      <td>0</td>\n",
       "      <td>0</td>\n",
       "      <td>0</td>\n",
       "      <td>0</td>\n",
       "      <td>0</td>\n",
       "      <td>0</td>\n",
       "      <td>1</td>\n",
       "      <td>0</td>\n",
       "      <td>1</td>\n",
       "      <td>0</td>\n",
       "    </tr>\n",
       "    <tr>\n",
       "      <th>2</th>\n",
       "      <td>-1.170374</td>\n",
       "      <td>-1.082663</td>\n",
       "      <td>-0.575774</td>\n",
       "      <td>1.039508</td>\n",
       "      <td>-1.136317</td>\n",
       "      <td>-0.883064</td>\n",
       "      <td>-0.688652</td>\n",
       "      <td>-0.297612</td>\n",
       "      <td>0.596967</td>\n",
       "      <td>-1.631287</td>\n",
       "      <td>...</td>\n",
       "      <td>0</td>\n",
       "      <td>0</td>\n",
       "      <td>0</td>\n",
       "      <td>0</td>\n",
       "      <td>0</td>\n",
       "      <td>0</td>\n",
       "      <td>1</td>\n",
       "      <td>1</td>\n",
       "      <td>0</td>\n",
       "      <td>0</td>\n",
       "    </tr>\n",
       "    <tr>\n",
       "      <th>3</th>\n",
       "      <td>-0.135798</td>\n",
       "      <td>-0.005819</td>\n",
       "      <td>-0.575774</td>\n",
       "      <td>0.370306</td>\n",
       "      <td>0.086717</td>\n",
       "      <td>-0.308607</td>\n",
       "      <td>0.988553</td>\n",
       "      <td>-0.297612</td>\n",
       "      <td>-0.055711</td>\n",
       "      <td>0.147328</td>\n",
       "      <td>...</td>\n",
       "      <td>0</td>\n",
       "      <td>0</td>\n",
       "      <td>0</td>\n",
       "      <td>0</td>\n",
       "      <td>0</td>\n",
       "      <td>0</td>\n",
       "      <td>1</td>\n",
       "      <td>0</td>\n",
       "      <td>1</td>\n",
       "      <td>0</td>\n",
       "    </tr>\n",
       "    <tr>\n",
       "      <th>5</th>\n",
       "      <td>-0.816440</td>\n",
       "      <td>-0.714269</td>\n",
       "      <td>-0.575774</td>\n",
       "      <td>-1.144204</td>\n",
       "      <td>-0.790339</td>\n",
       "      <td>-0.513837</td>\n",
       "      <td>-0.319905</td>\n",
       "      <td>-0.297612</td>\n",
       "      <td>1.249645</td>\n",
       "      <td>-0.074999</td>\n",
       "      <td>...</td>\n",
       "      <td>0</td>\n",
       "      <td>0</td>\n",
       "      <td>0</td>\n",
       "      <td>0</td>\n",
       "      <td>0</td>\n",
       "      <td>0</td>\n",
       "      <td>1</td>\n",
       "      <td>0</td>\n",
       "      <td>1</td>\n",
       "      <td>0</td>\n",
       "    </tr>\n",
       "  </tbody>\n",
       "</table>\n",
       "<p>5 rows × 37 columns</p>\n",
       "</div>"
      ],
      "text/plain": [
       "   loan_amnt  funded_amnt_inv      term  int_rate  installment  annual_inc  \\\n",
       "0  -0.816440        -0.717811 -0.575774 -0.399141    -0.759593   -0.700410   \n",
       "1  -1.156761        -1.068494  1.736794  0.852565    -1.253834   -0.607124   \n",
       "2  -1.170374        -1.082663 -0.575774  1.039508    -1.136317   -0.883064   \n",
       "3  -0.135798        -0.005819 -0.575774  0.370306     0.086717   -0.308607   \n",
       "5  -0.816440        -0.714269 -0.575774 -1.144204    -0.790339   -0.513837   \n",
       "\n",
       "        dti  delinq_2yrs  inq_last_6mths  open_acc  \\\n",
       "0  2.126020    -0.297612       -0.055711 -1.408960   \n",
       "1 -1.836527    -0.297612        2.555000 -1.408960   \n",
       "2 -0.688652    -0.297612        0.596967 -1.631287   \n",
       "3  0.988553    -0.297612       -0.055711  0.147328   \n",
       "5 -0.319905    -0.297612        1.249645 -0.074999   \n",
       "\n",
       "               ...               grade_F  grade_G  home_ownership_MORTGAGE  \\\n",
       "0              ...                     0        0                        0   \n",
       "1              ...                     0        0                        0   \n",
       "2              ...                     0        0                        0   \n",
       "3              ...                     0        0                        0   \n",
       "5              ...                     0        0                        0   \n",
       "\n",
       "   home_ownership_NONE  home_ownership_OTHER  home_ownership_OWN  \\\n",
       "0                    0                     0                   0   \n",
       "1                    0                     0                   0   \n",
       "2                    0                     0                   0   \n",
       "3                    0                     0                   0   \n",
       "5                    0                     0                   0   \n",
       "\n",
       "   home_ownership_RENT  verification_status_Not Verified  \\\n",
       "0                    1                                 0   \n",
       "1                    1                                 0   \n",
       "2                    1                                 1   \n",
       "3                    1                                 0   \n",
       "5                    1                                 0   \n",
       "\n",
       "   verification_status_Source Verified  verification_status_Verified  \n",
       "0                                    0                             1  \n",
       "1                                    1                             0  \n",
       "2                                    0                             0  \n",
       "3                                    1                             0  \n",
       "5                                    1                             0  \n",
       "\n",
       "[5 rows x 37 columns]"
      ]
     },
     "execution_count": 65,
     "metadata": {},
     "output_type": "execute_result"
    }
   ],
   "source": [
    "loan_prepared.head()"
   ]
  },
  {
   "cell_type": "code",
   "execution_count": 66,
   "metadata": {},
   "outputs": [
    {
     "data": {
      "text/plain": [
       "loan_amnt                              0\n",
       "funded_amnt_inv                        0\n",
       "term                                   0\n",
       "int_rate                               0\n",
       "installment                            0\n",
       "annual_inc                             0\n",
       "dti                                    0\n",
       "delinq_2yrs                            0\n",
       "inq_last_6mths                         0\n",
       "open_acc                               0\n",
       "pub_rec                                0\n",
       "revol_bal                              0\n",
       "revol_util                             0\n",
       "total_acc                              0\n",
       "total_pymnt                            0\n",
       "total_pymnt_inv                        0\n",
       "total_rec_late_fee                     0\n",
       "recoveries                             0\n",
       "collection_recovery_fee                0\n",
       "last_pymnt_amnt                        0\n",
       "last_fico_range_high                   0\n",
       "last_fico_range_low                    0\n",
       "grade_A                                0\n",
       "grade_B                                0\n",
       "grade_C                                0\n",
       "grade_D                                0\n",
       "grade_E                                0\n",
       "grade_F                                0\n",
       "grade_G                                0\n",
       "home_ownership_MORTGAGE                0\n",
       "home_ownership_NONE                    0\n",
       "home_ownership_OTHER                   0\n",
       "home_ownership_OWN                     0\n",
       "home_ownership_RENT                    0\n",
       "verification_status_Not Verified       0\n",
       "verification_status_Source Verified    0\n",
       "verification_status_Verified           0\n",
       "dtype: int64"
      ]
     },
     "execution_count": 66,
     "metadata": {},
     "output_type": "execute_result"
    }
   ],
   "source": [
    "loan_prepared.isnull().sum()"
   ]
  },
  {
   "cell_type": "code",
   "execution_count": 67,
   "metadata": {},
   "outputs": [
    {
     "name": "stdout",
     "output_type": "stream",
     "text": [
      "<class 'pandas.core.frame.DataFrame'>\n",
      "Int64Index: 41988 entries, 0 to 42535\n",
      "Data columns (total 37 columns):\n",
      "loan_amnt                              41988 non-null float64\n",
      "funded_amnt_inv                        41988 non-null float64\n",
      "term                                   41988 non-null float64\n",
      "int_rate                               41988 non-null float64\n",
      "installment                            41988 non-null float64\n",
      "annual_inc                             41988 non-null float64\n",
      "dti                                    41988 non-null float64\n",
      "delinq_2yrs                            41988 non-null float64\n",
      "inq_last_6mths                         41988 non-null float64\n",
      "open_acc                               41988 non-null float64\n",
      "pub_rec                                41988 non-null float64\n",
      "revol_bal                              41988 non-null float64\n",
      "revol_util                             41988 non-null float64\n",
      "total_acc                              41988 non-null float64\n",
      "total_pymnt                            41988 non-null float64\n",
      "total_pymnt_inv                        41988 non-null float64\n",
      "total_rec_late_fee                     41988 non-null float64\n",
      "recoveries                             41988 non-null float64\n",
      "collection_recovery_fee                41988 non-null float64\n",
      "last_pymnt_amnt                        41988 non-null float64\n",
      "last_fico_range_high                   41988 non-null float64\n",
      "last_fico_range_low                    41988 non-null float64\n",
      "grade_A                                41988 non-null uint8\n",
      "grade_B                                41988 non-null uint8\n",
      "grade_C                                41988 non-null uint8\n",
      "grade_D                                41988 non-null uint8\n",
      "grade_E                                41988 non-null uint8\n",
      "grade_F                                41988 non-null uint8\n",
      "grade_G                                41988 non-null uint8\n",
      "home_ownership_MORTGAGE                41988 non-null uint8\n",
      "home_ownership_NONE                    41988 non-null uint8\n",
      "home_ownership_OTHER                   41988 non-null uint8\n",
      "home_ownership_OWN                     41988 non-null uint8\n",
      "home_ownership_RENT                    41988 non-null uint8\n",
      "verification_status_Not Verified       41988 non-null uint8\n",
      "verification_status_Source Verified    41988 non-null uint8\n",
      "verification_status_Verified           41988 non-null uint8\n",
      "dtypes: float64(22), uint8(15)\n",
      "memory usage: 8.0 MB\n"
     ]
    }
   ],
   "source": [
    "loan_prepared.info()"
   ]
  },
  {
   "cell_type": "code",
   "execution_count": 68,
   "metadata": {},
   "outputs": [
    {
     "data": {
      "text/plain": [
       "41988"
      ]
     },
     "execution_count": 68,
     "metadata": {},
     "output_type": "execute_result"
    }
   ],
   "source": [
    "len(loan_label)"
   ]
  },
  {
   "cell_type": "code",
   "execution_count": 69,
   "metadata": {},
   "outputs": [
    {
     "name": "stderr",
     "output_type": "stream",
     "text": [
      "C:\\Users\\Vani\\Anaconda3\\lib\\site-packages\\sklearn\\cross_validation.py:44: DeprecationWarning: This module was deprecated in version 0.18 in favor of the model_selection module into which all the refactored classes and functions are moved. Also note that the interface of the new CV iterators are different from that of this module. This module will be removed in 0.20.\n",
      "  \"This module will be removed in 0.20.\", DeprecationWarning)\n"
     ]
    }
   ],
   "source": [
    "# Splitting the dataset into the Training set and Test set\n",
    "from sklearn.cross_validation import train_test_split\n",
    "loan_train, loan_test, loan_status_train, loan_status_test = train_test_split(loan_prepared, loan_label, test_size = 0.20, random_state = 42)\n"
   ]
  },
  {
   "cell_type": "code",
   "execution_count": 70,
   "metadata": {
    "collapsed": true
   },
   "outputs": [],
   "source": [
    "#All numeric data and no null values,create a model"
   ]
  },
  {
   "cell_type": "code",
   "execution_count": 71,
   "metadata": {},
   "outputs": [
    {
     "data": {
      "text/plain": [
       "'We will try following models and then choose the best model by comparing cross validation accuracy,then fine tune the model\\n1.Logistic regression\\n2.KNN\\n3.SGD Classifier\\n4.SVM\\n5.Random Forest\\n\\n'"
      ]
     },
     "execution_count": 71,
     "metadata": {},
     "output_type": "execute_result"
    }
   ],
   "source": [
    "'''We will try following models and then choose the best model by comparing cross validation accuracy,then fine tune the model\n",
    "1.Logistic regression\n",
    "2.KNN\n",
    "3.SGD Classifier\n",
    "4.SVM\n",
    "5.Random Forest\n",
    "\n",
    "'''\n",
    "\n",
    "\n"
   ]
  },
  {
   "cell_type": "code",
   "execution_count": 72,
   "metadata": {
    "collapsed": true
   },
   "outputs": [],
   "source": [
    "#1.Logistic Regression"
   ]
  },
  {
   "cell_type": "code",
   "execution_count": 73,
   "metadata": {
    "collapsed": true
   },
   "outputs": [],
   "source": [
    "from sklearn.linear_model import LogisticRegression\n",
    "\n",
    "lg_classifier = LogisticRegression()\n",
    "lg_classifier.fit(loan_train,loan_status_train)\n",
    "lg_loan_pred = lg_classifier.predict(loan_train)"
   ]
  },
  {
   "cell_type": "code",
   "execution_count": 110,
   "metadata": {
    "collapsed": true
   },
   "outputs": [],
   "source": [
    "from sklearn.model_selection import cross_val_predict,cross_val_score\n",
    "from sklearn.metrics import precision_score,accuracy_score,confusion_matrix,classification_report\n",
    "\n"
   ]
  },
  {
   "cell_type": "code",
   "execution_count": 109,
   "metadata": {},
   "outputs": [
    {
     "data": {
      "text/plain": [
       "array([[ 4761,   335],\n",
       "       [   52, 28442]])"
      ]
     },
     "execution_count": 109,
     "metadata": {},
     "output_type": "execute_result"
    }
   ],
   "source": [
    "confusion_matrix(loan_status_train,lg_loan_pred)"
   ]
  },
  {
   "cell_type": "code",
   "execution_count": 102,
   "metadata": {},
   "outputs": [
    {
     "data": {
      "text/plain": [
       "0.98847871390294728"
      ]
     },
     "execution_count": 102,
     "metadata": {},
     "output_type": "execute_result"
    }
   ],
   "source": [
    "lg_classifier.score(X=loan_train,y=loan_status_train)"
   ]
  },
  {
   "cell_type": "code",
   "execution_count": 75,
   "metadata": {
    "collapsed": true
   },
   "outputs": [],
   "source": [
    "lg_accu_score = cross_val_score(lg_classifier,loan_train,loan_status_train,cv=3,scoring='accuracy')"
   ]
  },
  {
   "cell_type": "code",
   "execution_count": 116,
   "metadata": {},
   "outputs": [
    {
     "data": {
      "text/plain": [
       "0.98693068018302121"
      ]
     },
     "execution_count": 116,
     "metadata": {},
     "output_type": "execute_result"
    }
   ],
   "source": [
    "lg_accu_score.mean()"
   ]
  },
  {
   "cell_type": "code",
   "execution_count": 115,
   "metadata": {},
   "outputs": [
    {
     "name": "stdout",
     "output_type": "stream",
     "text": [
      "             precision    recall  f1-score   support\n",
      "\n",
      "        0.0       0.99      0.93      0.96      5096\n",
      "        1.0       0.99      1.00      0.99     28494\n",
      "\n",
      "avg / total       0.99      0.99      0.99     33590\n",
      "\n"
     ]
    }
   ],
   "source": [
    "print(classification_report(loan_status_train, lg_loan_pred))\n"
   ]
  },
  {
   "cell_type": "code",
   "execution_count": 79,
   "metadata": {
    "collapsed": true
   },
   "outputs": [],
   "source": [
    "#2.KNN"
   ]
  },
  {
   "cell_type": "code",
   "execution_count": 81,
   "metadata": {},
   "outputs": [
    {
     "data": {
      "text/plain": [
       "KNeighborsClassifier(algorithm='auto', leaf_size=30, metric='minkowski',\n",
       "           metric_params=None, n_jobs=1, n_neighbors=5, p=2,\n",
       "           weights='uniform')"
      ]
     },
     "execution_count": 81,
     "metadata": {},
     "output_type": "execute_result"
    }
   ],
   "source": [
    "from sklearn.neighbors import KNeighborsClassifier\n",
    "knn_classifier = KNeighborsClassifier(n_neighbors=5,metric='minkowski',p=2)\n",
    "knn_classifier.fit(loan_train,loan_status_train)"
   ]
  },
  {
   "cell_type": "code",
   "execution_count": 83,
   "metadata": {},
   "outputs": [],
   "source": [
    "knn_accu_score = cross_val_score(knn_classifier,loan_train,loan_status_train,cv=3,scoring='accuracy')"
   ]
  },
  {
   "cell_type": "code",
   "execution_count": 84,
   "metadata": {},
   "outputs": [
    {
     "data": {
      "text/plain": [
       "array([ 0.91917478,  0.91756721,  0.91809575])"
      ]
     },
     "execution_count": 84,
     "metadata": {},
     "output_type": "execute_result"
    }
   ],
   "source": [
    "knn_accu_score"
   ]
  },
  {
   "cell_type": "code",
   "execution_count": 85,
   "metadata": {
    "collapsed": true
   },
   "outputs": [],
   "source": [
    "#3.SGD classifier"
   ]
  },
  {
   "cell_type": "code",
   "execution_count": 86,
   "metadata": {},
   "outputs": [
    {
     "data": {
      "text/plain": [
       "SGDClassifier(alpha=0.0001, average=False, class_weight=None, epsilon=0.1,\n",
       "       eta0=0.0, fit_intercept=True, l1_ratio=0.15,\n",
       "       learning_rate='optimal', loss='hinge', n_iter=5, n_jobs=1,\n",
       "       penalty='l2', power_t=0.5, random_state=42, shuffle=True, verbose=0,\n",
       "       warm_start=False)"
      ]
     },
     "execution_count": 86,
     "metadata": {},
     "output_type": "execute_result"
    }
   ],
   "source": [
    "from sklearn.linear_model import SGDClassifier\n",
    "sgd_classfier = SGDClassifier(random_state=42)\n",
    "sgd_classfier.fit(loan_train,loan_status_train)\n"
   ]
  },
  {
   "cell_type": "code",
   "execution_count": 87,
   "metadata": {
    "collapsed": true
   },
   "outputs": [],
   "source": [
    "sgd_accu_score = cross_val_score(sgd_classfier,loan_train,loan_status_train,cv=3,scoring='accuracy')"
   ]
  },
  {
   "cell_type": "code",
   "execution_count": 88,
   "metadata": {},
   "outputs": [
    {
     "data": {
      "text/plain": [
       "array([ 0.97954809,  0.98454943,  0.98160057])"
      ]
     },
     "execution_count": 88,
     "metadata": {},
     "output_type": "execute_result"
    }
   ],
   "source": [
    "sgd_accu_score"
   ]
  },
  {
   "cell_type": "code",
   "execution_count": 89,
   "metadata": {
    "collapsed": true
   },
   "outputs": [],
   "source": [
    "#SVM"
   ]
  },
  {
   "cell_type": "code",
   "execution_count": 90,
   "metadata": {},
   "outputs": [
    {
     "data": {
      "text/plain": [
       "SVC(C=1.0, cache_size=200, class_weight=None, coef0=0.0,\n",
       "  decision_function_shape=None, degree=3, gamma='auto', kernel='rbf',\n",
       "  max_iter=-1, probability=False, random_state=0, shrinking=True,\n",
       "  tol=0.001, verbose=False)"
      ]
     },
     "execution_count": 90,
     "metadata": {},
     "output_type": "execute_result"
    }
   ],
   "source": [
    "from sklearn.svm import SVC\n",
    "svm_classifier = SVC(kernel='rbf',random_state=0)\n",
    "svm_classifier.fit(loan_train,loan_status_train)\n"
   ]
  },
  {
   "cell_type": "code",
   "execution_count": 91,
   "metadata": {
    "collapsed": true
   },
   "outputs": [],
   "source": [
    "svm_accu_score = cross_val_score(svm_classifier,loan_train,loan_status_train,cv=3,scoring='accuracy')"
   ]
  },
  {
   "cell_type": "code",
   "execution_count": 92,
   "metadata": {},
   "outputs": [
    {
     "data": {
      "text/plain": [
       "array([ 0.97767259,  0.98204876,  0.98088603])"
      ]
     },
     "execution_count": 92,
     "metadata": {},
     "output_type": "execute_result"
    }
   ],
   "source": [
    "svm_accu_score"
   ]
  },
  {
   "cell_type": "code",
   "execution_count": 93,
   "metadata": {
    "collapsed": true
   },
   "outputs": [],
   "source": [
    "#5 Random Forest"
   ]
  },
  {
   "cell_type": "code",
   "execution_count": 94,
   "metadata": {},
   "outputs": [
    {
     "data": {
      "text/plain": [
       "RandomForestClassifier(bootstrap=True, class_weight=None, criterion='entropy',\n",
       "            max_depth=None, max_features='auto', max_leaf_nodes=None,\n",
       "            min_impurity_split=1e-07, min_samples_leaf=1,\n",
       "            min_samples_split=2, min_weight_fraction_leaf=0.0,\n",
       "            n_estimators=15, n_jobs=1, oob_score=False, random_state=0,\n",
       "            verbose=0, warm_start=False)"
      ]
     },
     "execution_count": 94,
     "metadata": {},
     "output_type": "execute_result"
    }
   ],
   "source": [
    "from sklearn.ensemble import RandomForestClassifier\n",
    "forest_classifier = RandomForestClassifier(n_estimators=15,criterion=\"entropy\",random_state=0)\n",
    "forest_classifier.fit(loan_train,loan_status_train)"
   ]
  },
  {
   "cell_type": "code",
   "execution_count": 95,
   "metadata": {
    "collapsed": true
   },
   "outputs": [],
   "source": [
    "forest_accu_score = cross_val_score(svm_classifier,loan_train,loan_status_train,cv=3,scoring='accuracy')"
   ]
  },
  {
   "cell_type": "code",
   "execution_count": 96,
   "metadata": {},
   "outputs": [
    {
     "data": {
      "text/plain": [
       "array([ 0.97767259,  0.98204876,  0.98088603])"
      ]
     },
     "execution_count": 96,
     "metadata": {},
     "output_type": "execute_result"
    }
   ],
   "source": [
    "forest_accu_score"
   ]
  },
  {
   "cell_type": "code",
   "execution_count": null,
   "metadata": {
    "collapsed": true
   },
   "outputs": [],
   "source": [
    "#As Logistic Regression has highest accuracy without need of any tuning on training set we'll choose it for test set."
   ]
  },
  {
   "cell_type": "code",
   "execution_count": 137,
   "metadata": {},
   "outputs": [
    {
     "data": {
      "text/plain": [
       "0.9876160990712074"
      ]
     },
     "execution_count": 137,
     "metadata": {},
     "output_type": "execute_result"
    }
   ],
   "source": [
    "\n",
    "lg_classifier.score(X=loan_test,y=loan_status_test)"
   ]
  },
  {
   "cell_type": "code",
   "execution_count": 138,
   "metadata": {},
   "outputs": [
    {
     "data": {
      "text/plain": [
       "'\\n1.Faced issue while deciding random sampling or Stratified sampling as there were almost \\n61 columns..finally decided to split data on loan_amnt but got error\\nsplit_object.split(loan_without_null,loan_without_null[\"loan_amnt\"])\\nValueError: Input contains NaN, infinity or a value too large for dtype(\\'float64\\').\\n2.Faced problems while creating ObjectToNumericConverter\\nI was trying to manipulate values in brute force way on my own.After much effort\\nfound out replace function\\n3.Not able to create cat_pipeline for multiple categorical features.At this stage I believe \\ncat pipeline can be only used if we have only 1 categorical feature.But need to confirm...\\nFor binarizer not able to create pipeline.So tried get_dumies method to encode.\\nBut for time being pipeline not created,maybe later I\\'ll create it.\\'\\n4.As i was not able to perfect the pipeline,I have to modify the code to split the data\\ninto training and test set after all cleaning..ideally we should split it at the start\\nto avoid data snooping\\n5.Got accuracy as almost 99% on test set..wondering how is it possible to get so high accuracy..need to get this algo verified by someone\\n'"
      ]
     },
     "execution_count": 138,
     "metadata": {},
     "output_type": "execute_result"
    }
   ],
   "source": [
    "#Issues Faced\n",
    "'''\n",
    "1.Faced issue while deciding random sampling or Stratified sampling as there were almost \n",
    "61 columns..finally decided to split data on loan_amnt but got error\n",
    "split_object.split(loan_without_null,loan_without_null[\"loan_amnt\"])\n",
    "ValueError: Input contains NaN, infinity or a value too large for dtype('float64').\n",
    "2.Faced problems while creating ObjectToNumericConverter\n",
    "I was trying to manipulate values in brute force way on my own.After much effort\n",
    "found out replace function\n",
    "3.Not able to create cat_pipeline for multiple categorical features.At this stage I believe \n",
    "cat pipeline can be only used if we have only 1 categorical feature.But need to confirm...\n",
    "For binarizer not able to create pipeline.So tried get_dumies method to encode.\n",
    "But for time being pipeline not created,maybe later I'll create it.'\n",
    "4.As i was not able to perfect the pipeline,I have to modify the code to split the data\n",
    "into training and test set after all cleaning..ideally we should split it at the start\n",
    "to avoid data snooping\n",
    "5.Got accuracy as almost 99% on test set..wondering how is it possible to get so high accuracy..need to get \n",
    "this algo verfied someone..I'll also verify\n",
    "'''"
   ]
  },
  {
   "cell_type": "code",
   "execution_count": null,
   "metadata": {
    "collapsed": true
   },
   "outputs": [],
   "source": [
    "\n"
   ]
  }
 ],
 "metadata": {
  "kernelspec": {
   "display_name": "Python 3",
   "language": "python",
   "name": "python3"
  },
  "language_info": {
   "codemirror_mode": {
    "name": "ipython",
    "version": 3
   },
   "file_extension": ".py",
   "mimetype": "text/x-python",
   "name": "python",
   "nbconvert_exporter": "python",
   "pygments_lexer": "ipython3",
   "version": "3.6.1"
  }
 },
 "nbformat": 4,
 "nbformat_minor": 2
}
